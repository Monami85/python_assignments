{
 "cells": [
  {
   "cell_type": "markdown",
   "id": "d6ceb5e2-c46e-4954-b610-f509cd8d3bd4",
   "metadata": {},
   "source": [
    "# Importing Libraries"
   ]
  },
  {
   "cell_type": "code",
   "execution_count": 1,
   "id": "1ab07fa2-3df5-4711-ab6d-c551cf2c5fc7",
   "metadata": {},
   "outputs": [],
   "source": [
    "# Import libraries\n",
    "import pandas as pd\n",
    "import numpy as np\n",
    "import os"
   ]
  },
  {
   "cell_type": "code",
   "execution_count": 2,
   "id": "d593952f-9f7f-4136-b0b4-ce520c52e011",
   "metadata": {},
   "outputs": [
    {
     "name": "stdout",
     "output_type": "stream",
     "text": [
      "C:\\Users\\rbhte\\OneDrive\\Documents\\Achievement_4_Monami\\Instacart Basket Analysis\n",
      "..................................................................................\n",
      "Index(['order_id', 'user_id', 'order_number', 'order_day_of_week',\n",
      "       'order_hour_of_day', 'days_since_prior_order', 'new_customer',\n",
      "       'product_id', 'add_to_cart_order', 'reordered', 'product_name',\n",
      "       'aisle_id', 'department_id', 'prices'],\n",
      "      dtype='object')\n"
     ]
    }
   ],
   "source": [
    "# Importing “ords_prods_mergenew.pkl” data set from the “Prepared Data” folder as df_opm by creating a string of the path\n",
    "\n",
    "path = r'C:\\Users\\rbhte\\OneDrive\\Documents\\Achievement_4_Monami\\Instacart Basket Analysis'\n",
    "print (path)\n",
    "print ( '..................................................................................')\n",
    "# Correctly reading the pickle file\n",
    "df_opm = pd.read_pickle(os.path.join(path, '02 Data', 'Prepared Data', 'ords_prods_mergenew.pkl'))\n",
    "\n",
    "print(df_opm.columns)"
   ]
  },
  {
   "cell_type": "markdown",
   "id": "92788d0e-7da8-4fce-aeea-63fb2a5a3ed3",
   "metadata": {},
   "source": [
    "# Categorizing Products by Price Range and Adding 'price_label' as a column"
   ]
  },
  {
   "cell_type": "code",
   "execution_count": 3,
   "id": "99f33852-b945-40f5-aca7-c25c77da94c2",
   "metadata": {},
   "outputs": [],
   "source": [
    "# Create a copy of the original df_opm to keep it unchanged\n",
    "df_opm_copy = df_opm.copy()"
   ]
  },
  {
   "cell_type": "code",
   "execution_count": 4,
   "id": "28cb2537-ee5a-4b56-a4a1-bacc23facaa9",
   "metadata": {},
   "outputs": [],
   "source": [
    "# Categorizing products based on their price range using df_opm_copy\n",
    "df_opm_copy.loc[df_opm_copy['prices'] > 15, 'price_range_loc'] = 'High-range product'\n",
    "df_opm_copy.loc[(df_opm_copy['prices'] <= 15) & (df_opm_copy['prices'] > 5), 'price_range_loc'] = 'Mid-range product'\n",
    "df_opm_copy.loc[df_opm_copy['prices'] <= 5, 'price_range_loc'] = 'Low-range product'"
   ]
  },
  {
   "cell_type": "markdown",
   "id": "265ae0fe-2f4f-4529-9396-bf0317305f18",
   "metadata": {},
   "source": [
    "# Categorizing Days Based on Activity and adding 'busiest_day' as a column"
   ]
  },
  {
   "cell_type": "code",
   "execution_count": 5,
   "id": "8e5fab25-496c-486c-9742-6a65c10332ac",
   "metadata": {},
   "outputs": [
    {
     "data": {
      "text/plain": [
       "order_day_of_week\n",
       "0    6204182\n",
       "1    5660230\n",
       "6    4496490\n",
       "2    4213830\n",
       "5    4205791\n",
       "3    3840534\n",
       "4    3783802\n",
       "Name: count, dtype: int64"
      ]
     },
     "execution_count": 5,
     "metadata": {},
     "output_type": "execute_result"
    }
   ],
   "source": [
    "# To check the frequency of 'order_day_of_week' column\n",
    "df_opm_copy['order_day_of_week'].value_counts(dropna=False)"
   ]
  },
  {
   "cell_type": "code",
   "execution_count": 6,
   "id": "b9e465b6-3c30-43cc-91ab-0d648d3edc28",
   "metadata": {},
   "outputs": [],
   "source": [
    "# Create a list based on the 'order_day_of_week' column\n",
    "result = []\n",
    "\n",
    "for value in df_opm_copy[\"order_day_of_week\"]:\n",
    "    if value == 0:  # Assuming 0 represents Saturday as the busiest day\n",
    "        result.append(\"Busiest day\")\n",
    "    elif value == 4:  # Assuming 4 represents Wednesday as the least busy day\n",
    "        result.append(\"Least busy\")\n",
    "    else:\n",
    "        result.append(\"Regularly busy\")\n",
    "\n",
    "# Add the result list as a new column to df_opm_copy\n",
    "df_opm_copy[\"busiest_day\"] = result\n",
    "\n",
    "# Now df_opm_copy has the new columns, while df_opm remains unchanged"
   ]
  },
  {
   "cell_type": "code",
   "execution_count": 7,
   "id": "21ad8fad-f3dd-4d54-aa87-ec95d2719ed0",
   "metadata": {},
   "outputs": [],
   "source": [
    "# Rename the 'price_range_loc' column to 'price_label'\n",
    "df_opm_copy = df_opm_copy.rename(columns={'price_range_loc': 'price_label'})"
   ]
  },
  {
   "cell_type": "code",
   "execution_count": 8,
   "id": "7e972ae9-4621-4ac9-a1d0-43516a2398dd",
   "metadata": {},
   "outputs": [
    {
     "name": "stdout",
     "output_type": "stream",
     "text": [
      "busiest_day\n",
      "Regularly busy    22416875\n",
      "Busiest day        6204182\n",
      "Least busy         3783802\n",
      "Name: count, dtype: int64\n"
     ]
    }
   ],
   "source": [
    "# Check the values of the new column for accuracy\n",
    "print(df_opm_copy[\"busiest_day\"].value_counts())"
   ]
  },
  {
   "cell_type": "code",
   "execution_count": 9,
   "id": "563f19be-37ff-4e9e-b05c-7e5ea77d3ae3",
   "metadata": {},
   "outputs": [
    {
     "name": "stdout",
     "output_type": "stream",
     "text": [
      "Index(['order_id', 'user_id', 'order_number', 'order_day_of_week',\n",
      "       'order_hour_of_day', 'days_since_prior_order', 'new_customer',\n",
      "       'product_id', 'add_to_cart_order', 'reordered', 'product_name',\n",
      "       'aisle_id', 'department_id', 'prices', 'price_label', 'busiest_day'],\n",
      "      dtype='object')\n"
     ]
    }
   ],
   "source": [
    "print(df_opm_copy.columns)"
   ]
  },
  {
   "cell_type": "code",
   "execution_count": 10,
   "id": "45311ce2-b4f9-42b0-a203-cdf7b1a058a3",
   "metadata": {},
   "outputs": [
    {
     "name": "stdout",
     "output_type": "stream",
     "text": [
      "   order_id  user_id  order_number  order_day_of_week  order_hour_of_day  \\\n",
      "0   2539329        1             1                  2                  8   \n",
      "1   2539329        1             1                  2                  8   \n",
      "2   2539329        1             1                  2                  8   \n",
      "\n",
      "   days_since_prior_order  new_customer  product_id  add_to_cart_order  \\\n",
      "0                     NaN          True         196                  1   \n",
      "1                     NaN          True       14084                  2   \n",
      "2                     NaN          True       12427                  3   \n",
      "\n",
      "   reordered                             product_name  aisle_id  \\\n",
      "0          0                                     Soda        77   \n",
      "1          0  Organic Unsweetened Vanilla Almond Milk        91   \n",
      "2          0                      Original Beef Jerky        23   \n",
      "\n",
      "   department_id  prices        price_label     busiest_day  \n",
      "0              7     9.0  Mid-range product  Regularly busy  \n",
      "1             16    12.5  Mid-range product  Regularly busy  \n",
      "2             19     4.4  Low-range product  Regularly busy  \n"
     ]
    }
   ],
   "source": [
    "# Display the first few rows of df_opm_copy\n",
    "print(df_opm_copy.head(3))  "
   ]
  },
  {
   "cell_type": "code",
   "execution_count": 11,
   "id": "629bfd7f-5ea2-4929-830c-a0be82bbb61b",
   "metadata": {},
   "outputs": [],
   "source": [
    "# Create a new column 'day_category' based on the 'order_day_of_week' column\n",
    "\n",
    "day_category = []\n",
    "\n",
    "for value in df_opm_copy[\"order_day_of_week\"]:\n",
    "    if value == 0 or value == 1:  # Busiest days\n",
    "        day_category.append(\"busiest_days\")\n",
    "    elif value == 3 or value == 4:  # Slowest days\n",
    "        day_category.append(\"slowest_days\")\n",
    "    else:  # Normal days (2, 5, 6)\n",
    "        day_category.append(\"normal_days\")\n",
    "\n",
    "# Add the new column to the DataFrame\n",
    "df_opm_copy[\"day_category\"] = day_category"
   ]
  },
  {
   "cell_type": "code",
   "execution_count": 13,
   "id": "c58d80b1-11a2-4848-b801-92567c613769",
   "metadata": {},
   "outputs": [
    {
     "name": "stdout",
     "output_type": "stream",
     "text": [
      "day_category\n",
      "normal_days     12916111\n",
      "busiest_days    11864412\n",
      "slowest_days     7624336\n",
      "Name: count, dtype: int64\n"
     ]
    }
   ],
   "source": [
    "# Check the values of the new column for accuracy\n",
    "print(df_opm_copy[\"day_category\"].value_counts())"
   ]
  },
  {
   "cell_type": "code",
   "execution_count": 14,
   "id": "cf12134d-d4de-4283-ac6e-9109baf7db38",
   "metadata": {},
   "outputs": [
    {
     "name": "stdout",
     "output_type": "stream",
     "text": [
      "Index(['order_id', 'user_id', 'order_number', 'order_day_of_week',\n",
      "       'order_hour_of_day', 'days_since_prior_order', 'new_customer',\n",
      "       'product_id', 'add_to_cart_order', 'reordered', 'product_name',\n",
      "       'aisle_id', 'department_id', 'prices', 'price_label', 'busiest_day',\n",
      "       'day_category'],\n",
      "      dtype='object')\n"
     ]
    }
   ],
   "source": [
    "print(df_opm_copy.columns)"
   ]
  },
  {
   "cell_type": "code",
   "execution_count": 15,
   "id": "6b563091-87f0-4ba7-a47c-bca1d8154cbf",
   "metadata": {},
   "outputs": [
    {
     "name": "stdout",
     "output_type": "stream",
     "text": [
      "   order_id  user_id  order_number  order_day_of_week  order_hour_of_day  \\\n",
      "0   2539329        1             1                  2                  8   \n",
      "1   2539329        1             1                  2                  8   \n",
      "2   2539329        1             1                  2                  8   \n",
      "\n",
      "   days_since_prior_order  new_customer  product_id  add_to_cart_order  \\\n",
      "0                     NaN          True         196                  1   \n",
      "1                     NaN          True       14084                  2   \n",
      "2                     NaN          True       12427                  3   \n",
      "\n",
      "   reordered                             product_name  aisle_id  \\\n",
      "0          0                                     Soda        77   \n",
      "1          0  Organic Unsweetened Vanilla Almond Milk        91   \n",
      "2          0                      Original Beef Jerky        23   \n",
      "\n",
      "   department_id  prices        price_label     busiest_day day_category  \n",
      "0              7     9.0  Mid-range product  Regularly busy  normal_days  \n",
      "1             16    12.5  Mid-range product  Regularly busy  normal_days  \n",
      "2             19     4.4  Low-range product  Regularly busy  normal_days  \n"
     ]
    }
   ],
   "source": [
    "# Display the first few rows of df_opm_copy\n",
    "print(df_opm_copy.head(3))  "
   ]
  },
  {
   "cell_type": "markdown",
   "id": "35fa39a0-685f-449e-98dc-d20a20eac8f7",
   "metadata": {},
   "source": [
    "Observations:\n",
    "\n",
    "The code creates a new column, 'day_category', in the DataFrame df_opm_copy based on the values in the 'order_day_of_week' column.\n",
    "It categorizes days into three groups:\n",
    "Busiest days: Represented by the values 0 (Saturday) and 1 (Sunday).\n",
    "Slowest days: Represented by the values 4 (Wednesday) and 5 (Thursday).\n",
    "Normal days: Represented by the values 2, 3, and 6 (Monday, Tuesday, and Friday, assuming a 7-day week starting from 0).\n",
    "\n",
    "Functionality:\n",
    "\n",
    "A for loop is used to iterate over the 'order_day_of_week' column.\n",
    "Conditional statements (if, elif, and else) check each day's value and append the corresponding category (busiest_days, slowest_days, or normal_days) to a list.\n",
    "The list day_category is then added as a new column in the DataFrame.\n",
    "\n",
    "Insights from the Output:\n",
    "\n",
    "The new column simplifies identifying trends or patterns across busy, slow, and normal days, aiding in better analysis and planning."
   ]
  },
  {
   "cell_type": "code",
   "execution_count": 16,
   "id": "6251e3e6-feb4-49ca-97a9-25a0520b6108",
   "metadata": {},
   "outputs": [
    {
     "name": "stdout",
     "output_type": "stream",
     "text": [
      "File successfully saved at: C:\\Users\\rbhte\\OneDrive\\Documents\\Achievement_4_Monami\\Instacart Basket Analysis\\02 Data\\Prepared Data\\df_with_newcols.xlsx\n"
     ]
    }
   ],
   "source": [
    "# Extract the first 600 rows of the DataFrame to see how it looks and to check the value of the order_hour_of_day\n",
    "\n",
    "df_first_600 = df_opm_copy.head(600)\n",
    "\n",
    "# Define the path and file name\n",
    "file_path = os.path.join(path, '02 Data', 'Prepared Data', 'df_with_newcols.xlsx')\n",
    "\n",
    "# Export the DataFrame to an Excel file\n",
    "df_first_600.to_excel(file_path, index=False)\n",
    "\n",
    "print(f\"File successfully saved at: {file_path}\")\n"
   ]
  },
  {
   "cell_type": "markdown",
   "id": "275b38a1-a75b-431c-8d19-ae1cf0fc4720",
   "metadata": {},
   "source": [
    "# Categorizing and Analyzing Busiest Periods of the Day for Instacart Orders"
   ]
  },
  {
   "cell_type": "code",
   "execution_count": 18,
   "id": "4eb267e2-99be-4cd4-8392-568d22a3524f",
   "metadata": {},
   "outputs": [
    {
     "data": {
      "text/plain": [
       "order_hour_of_day\n",
       "10    2761760\n",
       "11    2736140\n",
       "14    2689136\n",
       "15    2662144\n",
       "13    2660954\n",
       "12    2618532\n",
       "16    2535202\n",
       "9     2454203\n",
       "17    2087654\n",
       "8     1718118\n",
       "18    1636502\n",
       "19    1258305\n",
       "20     976156\n",
       "7      891054\n",
       "21     795637\n",
       "22     634225\n",
       "23     402316\n",
       "6      290493\n",
       "0      218769\n",
       "1      115700\n",
       "5       87961\n",
       "2       69375\n",
       "4       53242\n",
       "3       51281\n",
       "Name: count, dtype: int64"
      ]
     },
     "execution_count": 18,
     "metadata": {},
     "output_type": "execute_result"
    }
   ],
   "source": [
    "# To check the frequency of 'order_hour_of_day' column\n",
    "df_opm_copy['order_hour_of_day'].value_counts()"
   ]
  },
  {
   "cell_type": "code",
   "execution_count": 19,
   "id": "31cea007-8249-4db2-9783-01248567c955",
   "metadata": {},
   "outputs": [
    {
     "name": "stdout",
     "output_type": "stream",
     "text": [
      "busiest_period_of_day\n",
      "Most orders       18582869\n",
      "Average orders    13225662\n",
      "Fewest orders       596328\n",
      "Name: count, dtype: int64\n"
     ]
    }
   ],
   "source": [
    "# Create the busiest_period_of_day column and print the frequency of its values\n",
    "\n",
    "busiest_period_of_day = []\n",
    "\n",
    "for row in df_opm_copy['order_hour_of_day']:\n",
    "    if row in range(9, 16):  # Assuming hours 9-16 are busiest\n",
    "        busiest_period_of_day.append(\"Most orders\")\n",
    "    elif row in range(0, 6):  # Assuming hours 0-6 are the fewest\n",
    "        busiest_period_of_day.append(\"Fewest orders\")\n",
    "    else:  \n",
    "        busiest_period_of_day.append(\"Average orders\")\n",
    "\n",
    "# Add the new column to the DataFrame\n",
    "df_opm_copy['busiest_period_of_day'] = busiest_period_of_day\n",
    "\n",
    "# Print the frequency of values in the new column\n",
    "print(df_opm_copy['busiest_period_of_day'].value_counts())"
   ]
  },
  {
   "cell_type": "code",
   "execution_count": 20,
   "id": "33b24db6-cecc-4059-b3f6-c606bcb1dacc",
   "metadata": {},
   "outputs": [
    {
     "name": "stdout",
     "output_type": "stream",
     "text": [
      "Downcasting completed for df_opm_copy.\n"
     ]
    }
   ],
   "source": [
    "# Downcasting numerical columns to reduce memory usage in df_opm_copy\n",
    "for column in df_opm_copy.columns:\n",
    "    if df_opm_copy[column].dtype == 'float64':\n",
    "        df_opm_copy[column] = pd.to_numeric(df_opm_copy[column], downcast='float')\n",
    "    elif df_opm_copy[column].dtype == 'int64':\n",
    "        df_opm_copy[column] = pd.to_numeric(df_opm_copy[column], downcast='integer')\n",
    "\n",
    "print(\"Downcasting completed for df_opm_copy.\")"
   ]
  },
  {
   "cell_type": "code",
   "execution_count": 21,
   "id": "eadcea41-b92b-43a2-975d-a2a34c809e99",
   "metadata": {},
   "outputs": [
    {
     "name": "stdout",
     "output_type": "stream",
     "text": [
      "<class 'pandas.core.frame.DataFrame'>\n",
      "RangeIndex: 32404859 entries, 0 to 32404858\n",
      "Data columns (total 18 columns):\n",
      " #   Column                  Dtype  \n",
      "---  ------                  -----  \n",
      " 0   order_id                int32  \n",
      " 1   user_id                 int32  \n",
      " 2   order_number            int8   \n",
      " 3   order_day_of_week       int8   \n",
      " 4   order_hour_of_day       int8   \n",
      " 5   days_since_prior_order  float32\n",
      " 6   new_customer            bool   \n",
      " 7   product_id              int32  \n",
      " 8   add_to_cart_order       int16  \n",
      " 9   reordered               int8   \n",
      " 10  product_name            object \n",
      " 11  aisle_id                int16  \n",
      " 12  department_id           int8   \n",
      " 13  prices                  float32\n",
      " 14  price_label             object \n",
      " 15  busiest_day             object \n",
      " 16  day_category            object \n",
      " 17  busiest_period_of_day   object \n",
      "dtypes: bool(1), float32(2), int16(2), int32(3), int8(5), object(5)\n",
      "memory usage: 2.1+ GB\n",
      "None\n"
     ]
    }
   ],
   "source": [
    "# Check the memory usage after downcasting\n",
    "print(df_opm_copy.info())"
   ]
  },
  {
   "cell_type": "code",
   "execution_count": 22,
   "id": "b6328c30-3f10-43c6-a689-3255b6568c80",
   "metadata": {},
   "outputs": [
    {
     "name": "stdout",
     "output_type": "stream",
     "text": [
      "Pickle file successfully saved at: C:\\Users\\rbhte\\OneDrive\\Documents\\Achievement_4_Monami\\Instacart Basket Analysis\\02 Data\\Prepared Data\\opm_redesigned.pkl\n"
     ]
    }
   ],
   "source": [
    "# Define the file path\n",
    "\n",
    "file_path = os.path.join(path, '02 Data', 'Prepared Data', 'opm_redesigned.pkl')\n",
    "\n",
    "# Export the DataFrame as a pickle file\n",
    "\n",
    "df_opm_copy.to_pickle(file_path)\n",
    "\n",
    "print(f\"Pickle file successfully saved at: {file_path}\")"
   ]
  },
  {
   "cell_type": "code",
   "execution_count": null,
   "id": "d6f56a62-8701-4a61-b2d5-5f3c5dc9c49d",
   "metadata": {},
   "outputs": [],
   "source": []
  }
 ],
 "metadata": {
  "kernelspec": {
   "display_name": "Python 3 (ipykernel)",
   "language": "python",
   "name": "python3"
  },
  "language_info": {
   "codemirror_mode": {
    "name": "ipython",
    "version": 3
   },
   "file_extension": ".py",
   "mimetype": "text/x-python",
   "name": "python",
   "nbconvert_exporter": "python",
   "pygments_lexer": "ipython3",
   "version": "3.12.7"
  }
 },
 "nbformat": 4,
 "nbformat_minor": 5
}
