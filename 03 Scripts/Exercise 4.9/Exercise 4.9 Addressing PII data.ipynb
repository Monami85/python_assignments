{
 "cells": [
  {
   "cell_type": "markdown",
   "id": "1c236dc3-51b6-46d9-a633-959b05bb0aeb",
   "metadata": {},
   "source": [
    "Before proceeding with my final analysis, I will review the data to identify and address any Personally Identifiable Information (PII). If any PII is present, I will take the necessary steps to anonymize or remove it to ensure data privacy and compliance with ethical standards."
   ]
  },
  {
   "cell_type": "code",
   "execution_count": 1,
   "id": "1731ddf2-562e-4e14-a862-778cd7d86095",
   "metadata": {},
   "outputs": [],
   "source": [
    "# Importing Libraries\n",
    "import pandas as pd\n",
    "import numpy as np\n",
    "import os\n",
    "import matplotlib.pyplot as plt\n",
    "import seaborn as sns\n",
    "import scipy"
   ]
  },
  {
   "cell_type": "code",
   "execution_count": 3,
   "id": "1c742caa-710e-4bec-926b-4d2308c2b39b",
   "metadata": {},
   "outputs": [
    {
     "name": "stdout",
     "output_type": "stream",
     "text": [
      "C:\\Users\\rbhte\\OneDrive\\Documents\\Achievement_4_Monami\\Instacart Basket Analysis\n",
      "..................................................................................\n",
      "Index(['order_id', 'user_id', 'order_number', 'order_day_of_week',\n",
      "       'order_hour_of_day', 'days_since_prior_order', 'new_customer',\n",
      "       'product_id', 'add_to_cart_order', 'reordered', 'product_name',\n",
      "       'aisle_id', 'department_id', 'prices', 'price_label', 'busiest_day',\n",
      "       'day_category', 'busiest_period_of_day', 'max_order', 'loyalty_flag',\n",
      "       'spending_flag', 'order_frequency_flag', 'first_name', 'last_name',\n",
      "       'gender', 'state', 'age', 'date_joined', 'number_of_dependents',\n",
      "       'family_status', 'income'],\n",
      "      dtype='object')\n"
     ]
    }
   ],
   "source": [
    "# Importing “df_polished1.pkl” data set from the “Prepared Data” folder as \"df_pol\" by creating a string of the path\n",
    "\n",
    "path = r'C:\\Users\\rbhte\\OneDrive\\Documents\\Achievement_4_Monami\\Instacart Basket Analysis'\n",
    "print (path)\n",
    "print ( '..................................................................................')\n",
    "# Correctly reading the pickle file\n",
    "df1 = pd.read_pickle(os.path.join(path, '02 Data', 'Prepared Data', 'df_polished1.pkl'))\n",
    "\n",
    "print(df1.columns)"
   ]
  },
  {
   "cell_type": "code",
   "execution_count": 4,
   "id": "517cee94-9df5-4ea5-a52c-dda7abebe7de",
   "metadata": {},
   "outputs": [
    {
     "data": {
      "text/plain": [
       "Index(['order_id', 'user_id', 'order_number', 'order_day_of_week',\n",
       "       'order_hour_of_day', 'days_since_prior_order', 'new_customer',\n",
       "       'product_id', 'add_to_cart_order', 'reordered', 'product_name',\n",
       "       'aisle_id', 'department_id', 'prices', 'price_label', 'busiest_day',\n",
       "       'day_category', 'busiest_period_of_day', 'max_order', 'loyalty_flag',\n",
       "       'spending_flag', 'order_frequency_flag', 'gender', 'state', 'age',\n",
       "       'date_joined', 'number_of_dependents', 'family_status', 'income'],\n",
       "      dtype='object')"
      ]
     },
     "execution_count": 4,
     "metadata": {},
     "output_type": "execute_result"
    }
   ],
   "source": [
    "# Dropping the 'first_name' and 'last_name' columns from the df1 dataframe\n",
    "df = df1.drop(['first_name', 'last_name'], axis=1)\n",
    "df.columns"
   ]
  },
  {
   "cell_type": "code",
   "execution_count": 5,
   "id": "9cfee933-3eca-4d3d-92e0-0cfcb8702009",
   "metadata": {},
   "outputs": [
    {
     "name": "stdout",
     "output_type": "stream",
     "text": [
      "Number of rows: 32404859\n",
      "Number of columns: 29\n"
     ]
    }
   ],
   "source": [
    "# Total number of rows and columns in the dataframe\n",
    "rows, columns = df.shape\n",
    "print(f\"Number of rows: {rows}\")\n",
    "print(f\"Number of columns: {columns}\")"
   ]
  },
  {
   "cell_type": "code",
   "execution_count": 6,
   "id": "f3fcca58-3f39-4643-adf6-dcb8bfff139c",
   "metadata": {},
   "outputs": [],
   "source": [
    "# Export the dataframe in pickle format\n",
    "df.to_pickle(os.path.join(path, '02 Data', 'Prepared Data', 'data.pkl'))"
   ]
  }
 ],
 "metadata": {
  "kernelspec": {
   "display_name": "Python 3 (ipykernel)",
   "language": "python",
   "name": "python3"
  },
  "language_info": {
   "codemirror_mode": {
    "name": "ipython",
    "version": 3
   },
   "file_extension": ".py",
   "mimetype": "text/x-python",
   "name": "python",
   "nbconvert_exporter": "python",
   "pygments_lexer": "ipython3",
   "version": "3.12.7"
  }
 },
 "nbformat": 4,
 "nbformat_minor": 5
}
