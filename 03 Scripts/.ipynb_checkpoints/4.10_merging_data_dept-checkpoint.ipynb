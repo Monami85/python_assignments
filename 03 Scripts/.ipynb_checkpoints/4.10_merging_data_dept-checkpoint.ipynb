{
 "cells": [
  {
   "cell_type": "code",
   "execution_count": 9,
   "id": "535dfaaf-8758-4d02-91da-b5f17a21798f",
   "metadata": {},
   "outputs": [],
   "source": [
    "# Importing Libraries\n",
    "import pandas as pd\n",
    "import numpy as np\n",
    "import os"
   ]
  },
  {
   "cell_type": "code",
   "execution_count": 10,
   "id": "22498a1b-435c-492a-9de5-321c9a0609d7",
   "metadata": {},
   "outputs": [
    {
     "name": "stdout",
     "output_type": "stream",
     "text": [
      "Index(['order_id', 'user_id', 'order_number', 'order_day_of_week',\n",
      "       'order_hour_of_day', 'days_since_prior_order', 'new_customer',\n",
      "       'product_id', 'add_to_cart_order', 'reordered', 'product_name',\n",
      "       'aisle_id', 'department_id', 'prices', 'price_label', 'busiest_day',\n",
      "       'day_category', 'busiest_period_of_day', 'max_order', 'loyalty_flag',\n",
      "       'spending_flag', 'order_frequency_flag', 'gender', 'state', 'age',\n",
      "       'date_joined', 'number_of_dependents', 'family_status', 'income',\n",
      "       'region', 'exclusion_flag'],\n",
      "      dtype='object')\n"
     ]
    }
   ],
   "source": [
    "# Importing “filtered_data.pkl” from the “Prepared Data” folder as \"df1\" by creating a string of the path\n",
    "\n",
    "path = r'C:\\Users\\rbhte\\OneDrive\\Documents\\Achievement_4_Monami\\Instacart Basket Analysis'\n",
    "\n",
    "# Correctly reading the pickle file\n",
    "df1 = pd.read_pickle(os.path.join(path, '02 Data', 'Prepared Data', 'filtered_data.pkl'))\n",
    "\n",
    "print(df1.columns)"
   ]
  },
  {
   "cell_type": "code",
   "execution_count": 11,
   "id": "80539d57-5ba3-43a7-be71-cbf4d8fdd5ed",
   "metadata": {},
   "outputs": [
    {
     "name": "stdout",
     "output_type": "stream",
     "text": [
      "  department\n",
      "1     frozen\n",
      "2      other\n"
     ]
    }
   ],
   "source": [
    "# Importing “departments_wrangled” from the “Prepared Data” folder as \"df2\"\n",
    "\n",
    "# Correctly reading the pickle file\n",
    "df2 = pd.read_csv(os.path.join(path, '02 Data', 'Prepared Data', 'departments_wrangled.csv'), index_col = 0)\n",
    "\n",
    "print(df2.head(2))"
   ]
  },
  {
   "cell_type": "code",
   "execution_count": 12,
   "id": "1338cffc-eb1b-4a46-a078-c71b42a43458",
   "metadata": {},
   "outputs": [
    {
     "name": "stdout",
     "output_type": "stream",
     "text": [
      "<class 'pandas.core.frame.DataFrame'>\n",
      "Index: 32401975 entries, 0 to 32404858\n",
      "Data columns (total 31 columns):\n",
      " #   Column                  Dtype  \n",
      "---  ------                  -----  \n",
      " 0   order_id                int32  \n",
      " 1   user_id                 int32  \n",
      " 2   order_number            int8   \n",
      " 3   order_day_of_week       int8   \n",
      " 4   order_hour_of_day       int8   \n",
      " 5   days_since_prior_order  float32\n",
      " 6   new_customer            bool   \n",
      " 7   product_id              int32  \n",
      " 8   add_to_cart_order       int16  \n",
      " 9   reordered               int8   \n",
      " 10  product_name            object \n",
      " 11  aisle_id                int16  \n",
      " 12  department_id           int8   \n",
      " 13  prices                  float32\n",
      " 14  price_label             object \n",
      " 15  busiest_day             object \n",
      " 16  day_category            object \n",
      " 17  busiest_period_of_day   object \n",
      " 18  max_order               int8   \n",
      " 19  loyalty_flag            object \n",
      " 20  spending_flag           object \n",
      " 21  order_frequency_flag    object \n",
      " 22  gender                  object \n",
      " 23  state                   object \n",
      " 24  age                     int8   \n",
      " 25  date_joined             object \n",
      " 26  number_of_dependents    int8   \n",
      " 27  family_status           object \n",
      " 28  income                  int32  \n",
      " 29  region                  object \n",
      " 30  exclusion_flag          object \n",
      "dtypes: bool(1), float32(2), int16(2), int32(4), int8(8), object(14)\n",
      "memory usage: 4.7+ GB\n",
      "None\n"
     ]
    }
   ],
   "source": [
    "# Check the memory usage \n",
    "print(df1.info())"
   ]
  },
  {
   "cell_type": "code",
   "execution_count": 13,
   "id": "a0e14ea6-ab81-4632-bbd3-c7473bd885dc",
   "metadata": {},
   "outputs": [
    {
     "name": "stdout",
     "output_type": "stream",
     "text": [
      "<class 'pandas.core.frame.DataFrame'>\n",
      "Index: 21 entries, 1 to 21\n",
      "Data columns (total 1 columns):\n",
      " #   Column      Non-Null Count  Dtype \n",
      "---  ------      --------------  ----- \n",
      " 0   department  21 non-null     object\n",
      "dtypes: object(1)\n",
      "memory usage: 336.0+ bytes\n",
      "None\n"
     ]
    }
   ],
   "source": [
    "# Check the memory usage \n",
    "print(df2.info())"
   ]
  },
  {
   "cell_type": "code",
   "execution_count": 14,
   "id": "803d62fc-7d4f-467c-a217-fb8bbce2575c",
   "metadata": {},
   "outputs": [
    {
     "name": "stdout",
     "output_type": "stream",
     "text": [
      "   order_id  user_id  order_number  order_day_of_week  order_hour_of_day  \\\n",
      "0   2539329        1             1                  2                  8   \n",
      "1   2539329        1             1                  2                  8   \n",
      "2   2539329        1             1                  2                  8   \n",
      "3   2539329        1             1                  2                  8   \n",
      "4   2539329        1             1                  2                  8   \n",
      "\n",
      "   days_since_prior_order  new_customer  product_id  add_to_cart_order  \\\n",
      "0                     NaN          True         196                  1   \n",
      "1                     NaN          True       14084                  2   \n",
      "2                     NaN          True       12427                  3   \n",
      "3                     NaN          True       26088                  4   \n",
      "4                     NaN          True       26405                  5   \n",
      "\n",
      "   reordered  ...  gender    state  age  date_joined number_of_dependents  \\\n",
      "0          0  ...  Female  Alabama   31    2/17/2019                    3   \n",
      "1          0  ...  Female  Alabama   31    2/17/2019                    3   \n",
      "2          0  ...  Female  Alabama   31    2/17/2019                    3   \n",
      "3          0  ...  Female  Alabama   31    2/17/2019                    3   \n",
      "4          0  ...  Female  Alabama   31    2/17/2019                    3   \n",
      "\n",
      "  family_status income region  exclusion_flag  department  \n",
      "0       married  40423  South         Include   beverages  \n",
      "1       married  40423  South         Include  dairy eggs  \n",
      "2       married  40423  South         Include      snacks  \n",
      "3       married  40423  South         Include      snacks  \n",
      "4       married  40423  South         Include   household  \n",
      "\n",
      "[5 rows x 32 columns]\n"
     ]
    }
   ],
   "source": [
    "# Reset the index of df2 to use it as department_id\n",
    "df2 = df2.reset_index()\n",
    "df2.rename(columns={'index': 'department_id'}, inplace=True)\n",
    "\n",
    "# Merge df1 and df2 on department_id\n",
    "merged_df = df1.merge(df2, on='department_id', how='left')\n",
    "\n",
    "# Display the merged dataframe\n",
    "print(merged_df.head())"
   ]
  },
  {
   "cell_type": "code",
   "execution_count": 15,
   "id": "559247d2-c36f-440b-9ab0-5d2ef8daf240",
   "metadata": {},
   "outputs": [],
   "source": [
    "# Export the dataframe to pickle format\n",
    "merged_df.to_pickle(os.path.join(path, '02 Data', 'Prepared Data', 'orders_products_customer_department.pkl'))"
   ]
  },
  {
   "cell_type": "code",
   "execution_count": null,
   "id": "4938913c-999b-4d80-a179-9fa035f338bc",
   "metadata": {},
   "outputs": [],
   "source": []
  }
 ],
 "metadata": {
  "kernelspec": {
   "display_name": "Python 3 (ipykernel)",
   "language": "python",
   "name": "python3"
  },
  "language_info": {
   "codemirror_mode": {
    "name": "ipython",
    "version": 3
   },
   "file_extension": ".py",
   "mimetype": "text/x-python",
   "name": "python",
   "nbconvert_exporter": "python",
   "pygments_lexer": "ipython3",
   "version": "3.12.7"
  }
 },
 "nbformat": 4,
 "nbformat_minor": 5
}
