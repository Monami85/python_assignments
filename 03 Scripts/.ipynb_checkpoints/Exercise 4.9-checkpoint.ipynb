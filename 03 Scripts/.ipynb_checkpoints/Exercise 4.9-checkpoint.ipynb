{
 "cells": [
  {
   "cell_type": "markdown",
   "id": "b30dc896-5102-4956-8fdd-ff0bc4800a44",
   "metadata": {},
   "source": [
    "# 4.9 : Intro to Data Visualization with Python - TASK 1"
   ]
  },
  {
   "cell_type": "code",
   "execution_count": 1,
   "id": "0ef28285-f463-4f65-a4fb-e9a80eef257c",
   "metadata": {},
   "outputs": [],
   "source": [
    "# Importing Libraries\n",
    "import pandas as pd\n",
    "import numpy as np\n",
    "import os\n",
    "import matplotlib.pyplot as plt\n",
    "import seaborn as sns\n",
    "import scipy"
   ]
  },
  {
   "cell_type": "code",
   "execution_count": 2,
   "id": "b8767a55-9f2f-431b-a938-41e8ef0fb068",
   "metadata": {},
   "outputs": [
    {
     "name": "stdout",
     "output_type": "stream",
     "text": [
      "C:\\Users\\rbhte\\OneDrive\\Documents\\Achievement_4_Monami\\Instacart Basket Analysis\n",
      "..................................................................................\n",
      "Index(['order_id', 'user_id', 'order_number', 'order_day_of_week',\n",
      "       'order_hour_of_day', 'days_since_prior_order', 'new_customer',\n",
      "       'product_id', 'add_to_cart_order', 'reordered', 'product_name',\n",
      "       'aisle_id', 'department_id', 'prices', 'price_label', 'busiest_day',\n",
      "       'day_category', 'busiest_period_of_day', 'max_order', 'loyalty_flag',\n",
      "       'spending_flag', 'order_frequency_flag'],\n",
      "      dtype='object')\n"
     ]
    }
   ],
   "source": [
    "# Importing “ords_prods_merge_4.8improved.pkl” data set from the “Prepared Data” folder as \"opm_refined\" by creating a string of the path\n",
    "\n",
    "path = r'C:\\Users\\rbhte\\OneDrive\\Documents\\Achievement_4_Monami\\Instacart Basket Analysis'\n",
    "print (path)\n",
    "print ( '..................................................................................')\n",
    "# Correctly reading the pickle file\n",
    "opm_refined = pd.read_pickle(os.path.join(path, '02 Data', 'Prepared Data', 'ords_prods_merge_4.8improved.pkl'))\n",
    "\n",
    "print(opm_refined.columns)"
   ]
  },
  {
   "cell_type": "code",
   "execution_count": 3,
   "id": "259a8371-132f-441e-9da0-a387679e5025",
   "metadata": {},
   "outputs": [
    {
     "name": "stdout",
     "output_type": "stream",
     "text": [
      "Data types of columns in opm_refined:\n",
      "order_id                    int32\n",
      "user_id                     int32\n",
      "order_number                 int8\n",
      "order_day_of_week            int8\n",
      "order_hour_of_day            int8\n",
      "days_since_prior_order    float32\n",
      "new_customer                 bool\n",
      "product_id                  int32\n",
      "add_to_cart_order           int16\n",
      "reordered                    int8\n",
      "product_name               object\n",
      "aisle_id                    int16\n",
      "department_id                int8\n",
      "prices                    float32\n",
      "price_label                object\n",
      "busiest_day                object\n",
      "day_category               object\n",
      "busiest_period_of_day      object\n",
      "max_order                    int8\n",
      "loyalty_flag               object\n",
      "spending_flag              object\n",
      "order_frequency_flag       object\n",
      "dtype: object\n"
     ]
    }
   ],
   "source": [
    "# Check the data types of all columns in opm_refined\n",
    "print(\"Data types of columns in opm_refined:\")\n",
    "print(opm_refined.dtypes)"
   ]
  },
  {
   "cell_type": "markdown",
   "id": "b37b80ea-9aed-4cd7-8239-4bc9fb5e5e3f",
   "metadata": {},
   "source": [
    "# Wrangle the Customer Data"
   ]
  },
  {
   "cell_type": "code",
   "execution_count": 4,
   "id": "454c2e19-a6d3-499f-a74e-14a71c6cf7d6",
   "metadata": {},
   "outputs": [
    {
     "name": "stdout",
     "output_type": "stream",
     "text": [
      "   user_id First Name    Surnam  Gender       STATE  Age date_joined  \\\n",
      "0    26711    Deborah  Esquivel  Female    Missouri   48    1/1/2017   \n",
      "1    33890   Patricia      Hart  Female  New Mexico   36    1/1/2017   \n",
      "2    65803    Kenneth    Farley    Male       Idaho   35    1/1/2017   \n",
      "3   125935   Michelle     Hicks  Female        Iowa   40    1/1/2017   \n",
      "4   130797        Ann   Gilmore  Female    Maryland   26    1/1/2017   \n",
      "\n",
      "   n_dependants fam_status  income  \n",
      "0             3    married  165665  \n",
      "1             0     single   59285  \n",
      "2             2    married   99568  \n",
      "3             0     single   42049  \n",
      "4             1    married   40374  \n"
     ]
    }
   ],
   "source": [
    "# Importing the \"customers.csv\" file by creating a string\n",
    "df_cus = pd.read_csv(os.path.join(path, '02 Data', 'Original Data', 'customers.csv'), index_col = False)\n",
    "print (df_cus.head())"
   ]
  },
  {
   "cell_type": "code",
   "execution_count": 5,
   "id": "52128def-4e70-4fb9-aee2-ba752f291e0d",
   "metadata": {},
   "outputs": [
    {
     "data": {
      "text/plain": [
       "(206209, 10)"
      ]
     },
     "execution_count": 5,
     "metadata": {},
     "output_type": "execute_result"
    }
   ],
   "source": [
    "df_cus.shape"
   ]
  },
  {
   "cell_type": "code",
   "execution_count": 6,
   "id": "d6443b92-0d92-4ede-a8ea-6c30256e1740",
   "metadata": {},
   "outputs": [],
   "source": [
    "# Create a copy of the original df_cus to keep it unchanged\n",
    "df_cus_copy = df_cus.copy()"
   ]
  },
  {
   "cell_type": "code",
   "execution_count": 7,
   "id": "9d9f756f-470c-4949-ad6d-d411e8b4bec0",
   "metadata": {},
   "outputs": [],
   "source": [
    "# Renaming the columns\n",
    "df_cus_copy.rename(columns={ \n",
    "    'First Name' : 'first_name',\n",
    "    'Surnam' : 'last_name',\n",
    "    'Gender' : 'gender', \n",
    "    'STATE' : 'state', \n",
    "    'Age' : 'age', \n",
    "    'n_dependants' : 'number_of_dependents', \n",
    "    'fam_status' : 'family_status'}, inplace=True)"
   ]
  },
  {
   "cell_type": "code",
   "execution_count": 8,
   "id": "8b9546dc-17cd-4072-b67a-7b6bbbdfbe70",
   "metadata": {},
   "outputs": [
    {
     "data": {
      "text/plain": [
       "Index(['user_id', 'first_name', 'last_name', 'gender', 'state', 'age',\n",
       "       'date_joined', 'number_of_dependents', 'family_status', 'income'],\n",
       "      dtype='object')"
      ]
     },
     "execution_count": 8,
     "metadata": {},
     "output_type": "execute_result"
    }
   ],
   "source": [
    "df_cus_copy.columns"
   ]
  },
  {
   "cell_type": "code",
   "execution_count": 9,
   "id": "d23d07ef-6ea0-4729-bc6a-a123995c2570",
   "metadata": {},
   "outputs": [
    {
     "data": {
      "text/html": [
       "<div>\n",
       "<style scoped>\n",
       "    .dataframe tbody tr th:only-of-type {\n",
       "        vertical-align: middle;\n",
       "    }\n",
       "\n",
       "    .dataframe tbody tr th {\n",
       "        vertical-align: top;\n",
       "    }\n",
       "\n",
       "    .dataframe thead th {\n",
       "        text-align: right;\n",
       "    }\n",
       "</style>\n",
       "<table border=\"1\" class=\"dataframe\">\n",
       "  <thead>\n",
       "    <tr style=\"text-align: right;\">\n",
       "      <th></th>\n",
       "      <th>user_id</th>\n",
       "      <th>age</th>\n",
       "      <th>number_of_dependents</th>\n",
       "      <th>income</th>\n",
       "    </tr>\n",
       "  </thead>\n",
       "  <tbody>\n",
       "    <tr>\n",
       "      <th>count</th>\n",
       "      <td>206209.000000</td>\n",
       "      <td>206209.000000</td>\n",
       "      <td>206209.000000</td>\n",
       "      <td>206209.000000</td>\n",
       "    </tr>\n",
       "    <tr>\n",
       "      <th>mean</th>\n",
       "      <td>103105.000000</td>\n",
       "      <td>49.501646</td>\n",
       "      <td>1.499823</td>\n",
       "      <td>94632.852548</td>\n",
       "    </tr>\n",
       "    <tr>\n",
       "      <th>std</th>\n",
       "      <td>59527.555167</td>\n",
       "      <td>18.480962</td>\n",
       "      <td>1.118433</td>\n",
       "      <td>42473.786988</td>\n",
       "    </tr>\n",
       "    <tr>\n",
       "      <th>min</th>\n",
       "      <td>1.000000</td>\n",
       "      <td>18.000000</td>\n",
       "      <td>0.000000</td>\n",
       "      <td>25903.000000</td>\n",
       "    </tr>\n",
       "    <tr>\n",
       "      <th>25%</th>\n",
       "      <td>51553.000000</td>\n",
       "      <td>33.000000</td>\n",
       "      <td>0.000000</td>\n",
       "      <td>59874.000000</td>\n",
       "    </tr>\n",
       "    <tr>\n",
       "      <th>50%</th>\n",
       "      <td>103105.000000</td>\n",
       "      <td>49.000000</td>\n",
       "      <td>1.000000</td>\n",
       "      <td>93547.000000</td>\n",
       "    </tr>\n",
       "    <tr>\n",
       "      <th>75%</th>\n",
       "      <td>154657.000000</td>\n",
       "      <td>66.000000</td>\n",
       "      <td>3.000000</td>\n",
       "      <td>124244.000000</td>\n",
       "    </tr>\n",
       "    <tr>\n",
       "      <th>max</th>\n",
       "      <td>206209.000000</td>\n",
       "      <td>81.000000</td>\n",
       "      <td>3.000000</td>\n",
       "      <td>593901.000000</td>\n",
       "    </tr>\n",
       "  </tbody>\n",
       "</table>\n",
       "</div>"
      ],
      "text/plain": [
       "             user_id            age  number_of_dependents         income\n",
       "count  206209.000000  206209.000000         206209.000000  206209.000000\n",
       "mean   103105.000000      49.501646              1.499823   94632.852548\n",
       "std     59527.555167      18.480962              1.118433   42473.786988\n",
       "min         1.000000      18.000000              0.000000   25903.000000\n",
       "25%     51553.000000      33.000000              0.000000   59874.000000\n",
       "50%    103105.000000      49.000000              1.000000   93547.000000\n",
       "75%    154657.000000      66.000000              3.000000  124244.000000\n",
       "max    206209.000000      81.000000              3.000000  593901.000000"
      ]
     },
     "execution_count": 9,
     "metadata": {},
     "output_type": "execute_result"
    }
   ],
   "source": [
    "df_cus_copy.describe()"
   ]
  },
  {
   "cell_type": "code",
   "execution_count": 10,
   "id": "a381426b-19cd-4145-a93c-dcace6cc7f81",
   "metadata": {},
   "outputs": [
    {
     "name": "stdout",
     "output_type": "stream",
     "text": [
      "No mixed-type columns found.\n"
     ]
    }
   ],
   "source": [
    "# Check for mixed-type columns using column-wise type inference\n",
    "mixed_type_columns = [col for col in df_cus_copy.columns if pd.api.types.infer_dtype(df_cus_copy[col]) == 'mixed']\n",
    "\n",
    "if mixed_type_columns:\n",
    "    print(\"The following columns contain mixed data types:\")\n",
    "    print(mixed_type_columns)\n",
    "else:\n",
    "    print(\"No mixed-type columns found.\")"
   ]
  },
  {
   "cell_type": "code",
   "execution_count": 11,
   "id": "d8018b94-e920-4a71-88d8-f16dbb11a8a9",
   "metadata": {},
   "outputs": [
    {
     "name": "stdout",
     "output_type": "stream",
     "text": [
      "Missing values in each column:\n",
      "user_id                     0\n",
      "first_name              11259\n",
      "last_name                   0\n",
      "gender                      0\n",
      "state                       0\n",
      "age                         0\n",
      "date_joined                 0\n",
      "number_of_dependents        0\n",
      "family_status               0\n",
      "income                      0\n",
      "dtype: int64\n"
     ]
    }
   ],
   "source": [
    "# Check for missing values in each column\n",
    "missing_values = df_cus_copy.isnull().sum()\n",
    "\n",
    "# Display columns with missing values\n",
    "print(\"Missing values in each column:\")\n",
    "print(missing_values)"
   ]
  },
  {
   "cell_type": "code",
   "execution_count": 12,
   "id": "a0a6301e-21c3-49a9-afaa-b9522cc98767",
   "metadata": {},
   "outputs": [
    {
     "name": "stdout",
     "output_type": "stream",
     "text": [
      "No duplicates found.\n"
     ]
    }
   ],
   "source": [
    "# Find duplicate rows (if any)\n",
    "duplicates = df_cus_copy[df_cus_copy.duplicated()]\n",
    "\n",
    "# Check if there are any duplicates\n",
    "if not duplicates.empty:\n",
    "    print(\"Duplicate rows found:\")\n",
    "    print(duplicates)\n",
    "else:\n",
    "    print(\"No duplicates found.\")"
   ]
  },
  {
   "cell_type": "code",
   "execution_count": 13,
   "id": "3a1d6c38-4581-4b1f-bec0-722c89714b81",
   "metadata": {},
   "outputs": [
    {
     "name": "stdout",
     "output_type": "stream",
     "text": [
      "Data types of the DataFrame:\n",
      "user_id                  int64\n",
      "first_name              object\n",
      "last_name               object\n",
      "gender                  object\n",
      "state                   object\n",
      "age                      int64\n",
      "date_joined             object\n",
      "number_of_dependents     int64\n",
      "family_status           object\n",
      "income                   int64\n",
      "dtype: object\n"
     ]
    }
   ],
   "source": [
    "# Check the data types of all columns\n",
    "print(\"Data types of the DataFrame:\")\n",
    "print(df_cus_copy.dtypes)"
   ]
  },
  {
   "cell_type": "markdown",
   "id": "4d93b8f2-03d7-463d-aafd-65e707bedd5d",
   "metadata": {},
   "source": [
    "# Downcasting df_cus_copy"
   ]
  },
  {
   "cell_type": "code",
   "execution_count": 14,
   "id": "b6ecbbd2-5c8a-4f04-9e18-ef950966f4db",
   "metadata": {},
   "outputs": [
    {
     "name": "stdout",
     "output_type": "stream",
     "text": [
      "Downcasting completed for df_cus_copy.\n"
     ]
    }
   ],
   "source": [
    "# Downcasting numerical columns to reduce memory usage in df_cus_copy\n",
    "\n",
    "for column in df_cus_copy.columns:\n",
    "    if df_cus_copy[column].dtype == 'float64':\n",
    "        df_cus_copy[column] = pd.to_numeric(df_cus_copy[column], downcast='float')\n",
    "    elif df_cus_copy[column].dtype == 'int64':\n",
    "        df_cus_copy[column] = pd.to_numeric(df_cus_copy[column], downcast='integer')\n",
    "\n",
    "print(\"Downcasting completed for df_cus_copy.\")"
   ]
  },
  {
   "cell_type": "code",
   "execution_count": 15,
   "id": "3b051737-c4ec-4272-9160-d95ed3e36334",
   "metadata": {},
   "outputs": [
    {
     "name": "stdout",
     "output_type": "stream",
     "text": [
      "Updated data types of the DataFrame:\n",
      "user_id                  int32\n",
      "first_name              object\n",
      "last_name               object\n",
      "gender                  object\n",
      "state                   object\n",
      "age                       int8\n",
      "date_joined             object\n",
      "number_of_dependents      int8\n",
      "family_status           object\n",
      "income                   int32\n",
      "dtype: object\n"
     ]
    }
   ],
   "source": [
    "print(\"Updated data types of the DataFrame:\")\n",
    "print(df_cus_copy.dtypes)"
   ]
  },
  {
   "cell_type": "code",
   "execution_count": 16,
   "id": "ab2712ca-824c-4e72-82ea-d61f227d93cf",
   "metadata": {},
   "outputs": [],
   "source": [
    "# Downcast user_id in both DataFrames\n",
    "opm_refined['user_id'] = pd.to_numeric(opm_refined['user_id'], downcast='integer')\n",
    "df_cus_copy['user_id'] = pd.to_numeric(df_cus_copy['user_id'], downcast='integer')"
   ]
  },
  {
   "cell_type": "markdown",
   "id": "66a5d801-9ef9-4ecf-888e-c83bc07340d0",
   "metadata": {},
   "source": [
    "# Merging the DataFrames (opm_refined and df_cus_copy)"
   ]
  },
  {
   "cell_type": "code",
   "execution_count": 17,
   "id": "2682ccb4-363f-491f-ac0b-8ffe0660090a",
   "metadata": {},
   "outputs": [
    {
     "name": "stdout",
     "output_type": "stream",
     "text": [
      "Merge completed. The resulting DataFrame is:\n",
      "   order_id  user_id  order_number  order_day_of_week  order_hour_of_day  \\\n",
      "0   2539329        1             1                  2                  8   \n",
      "1   2539329        1             1                  2                  8   \n",
      "2   2539329        1             1                  2                  8   \n",
      "\n",
      "   days_since_prior_order  new_customer  product_id  add_to_cart_order  \\\n",
      "0                     NaN          True         196                  1   \n",
      "1                     NaN          True       14084                  2   \n",
      "2                     NaN          True       12427                  3   \n",
      "\n",
      "   reordered  ...   order_frequency_flag  first_name  last_name  gender  \\\n",
      "0          0  ...  Non-frequent customer       Linda     Nguyen  Female   \n",
      "1          0  ...  Non-frequent customer       Linda     Nguyen  Female   \n",
      "2          0  ...  Non-frequent customer       Linda     Nguyen  Female   \n",
      "\n",
      "     state age date_joined number_of_dependents  family_status income  \n",
      "0  Alabama  31   2/17/2019                    3        married  40423  \n",
      "1  Alabama  31   2/17/2019                    3        married  40423  \n",
      "2  Alabama  31   2/17/2019                    3        married  40423  \n",
      "\n",
      "[3 rows x 31 columns]\n"
     ]
    }
   ],
   "source": [
    "# Merge opm_refined and df_cus_copy\n",
    "\n",
    "df_merged = opm_refined.merge(df_cus_copy, on = 'user_id', how = 'inner')\n",
    "\n",
    "print(\"Merge completed. The resulting DataFrame is:\")\n",
    "print(df_merged.head(3))"
   ]
  },
  {
   "cell_type": "markdown",
   "id": "de502fd4-8d0b-40d6-be45-5767c244af6c",
   "metadata": {},
   "source": [
    "# Exporting the merged dataframe"
   ]
  },
  {
   "cell_type": "code",
   "execution_count": 18,
   "id": "bf5b0b40-1acd-4ea8-9e38-9c3d7776b3a3",
   "metadata": {},
   "outputs": [
    {
     "name": "stdout",
     "output_type": "stream",
     "text": [
      "df_repolished.pkl created successfully.\n"
     ]
    }
   ],
   "source": [
    "# Export the merged dataframe in pickle format\n",
    "\n",
    "df_merged.to_pickle(os.path.join(path, '02 Data', 'Prepared Data', 'df_repolished.pkl'))\n",
    "print(\"df_repolished.pkl created successfully.\")"
   ]
  },
  {
   "cell_type": "code",
   "execution_count": null,
   "id": "18633a80-a751-4c76-a500-e24b8baa99ff",
   "metadata": {},
   "outputs": [],
   "source": []
  }
 ],
 "metadata": {
  "kernelspec": {
   "display_name": "Python 3 (ipykernel)",
   "language": "python",
   "name": "python3"
  },
  "language_info": {
   "codemirror_mode": {
    "name": "ipython",
    "version": 3
   },
   "file_extension": ".py",
   "mimetype": "text/x-python",
   "name": "python",
   "nbconvert_exporter": "python",
   "pygments_lexer": "ipython3",
   "version": "3.12.7"
  }
 },
 "nbformat": 4,
 "nbformat_minor": 5
}
