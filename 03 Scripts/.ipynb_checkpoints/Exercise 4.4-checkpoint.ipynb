{
 "cells": [
  {
   "cell_type": "markdown",
   "id": "12b8e2db-c64e-4d5a-b33c-454a1c38ff37",
   "metadata": {},
   "source": [
    "# 01. Importing libraries"
   ]
  },
  {
   "cell_type": "code",
   "execution_count": 1,
   "id": "4f5462bf-b8ad-481b-ad12-a8511be021c1",
   "metadata": {},
   "outputs": [],
   "source": [
    "# Import libraries\n",
    "import pandas as pd\n",
    "import numpy as np\n",
    "import os"
   ]
  },
  {
   "cell_type": "markdown",
   "id": "e9b960f3-9006-46f5-84c2-32a047e18c15",
   "metadata": {},
   "source": [
    "# 02. Order and Product Table"
   ]
  },
  {
   "cell_type": "code",
   "execution_count": 19,
   "id": "cf1b1f80-436e-4128-8b04-c6daf3bd4a71",
   "metadata": {},
   "outputs": [
    {
     "name": "stdout",
     "output_type": "stream",
     "text": [
      "Displaying ORDERS Table\n",
      "-----------------------------------------------------------------------\n",
      "   order_id  user_id eval_set  order_number  order_dow  order_hour_of_day  \\\n",
      "0   2539329        1    prior             1          2                  8   \n",
      "1   2398795        1    prior             2          3                  7   \n",
      "2    473747        1    prior             3          3                 12   \n",
      "3   2254736        1    prior             4          4                  7   \n",
      "4    431534        1    prior             5          4                 15   \n",
      "\n",
      "   days_since_prior_order  \n",
      "0                     NaN  \n",
      "1                    15.0  \n",
      "2                    21.0  \n",
      "3                    29.0  \n",
      "4                    28.0  \n",
      "Displaying updated ORDERS Table\n",
      "-----------------------------------------------------------------------\n",
      "   order_id  user_id  order_number  order_dow  order_hour_of_day  \\\n",
      "0   2539329        1             1          2                  8   \n",
      "1   2398795        1             2          3                  7   \n",
      "2    473747        1             3          3                 12   \n",
      "3   2254736        1             4          4                  7   \n",
      "4    431534        1             5          4                 15   \n",
      "\n",
      "   days_since_prior_order  \n",
      "0                     NaN  \n",
      "1                    15.0  \n",
      "2                    21.0  \n",
      "3                    29.0  \n",
      "4                    28.0  \n"
     ]
    }
   ],
   "source": [
    "# creating a string of the path for the main project folder\n",
    "path = r'C:\\Users\\rbhte\\Documents\\Achievement_4_Monami\\Instacart Basket Analysis'\n",
    "df_ords = pd.read_csv(os.path.join(path, '02 Data', 'Original Data', '4.3_orders_products', 'orders.csv'), index_col = False)\n",
    "print ('Displaying ORDERS Table')\n",
    "print ('-----------------------------------------------------------------------')\n",
    "print (df_ords.head())\n",
    "df_ords1 = df_ords.drop(columns = ['eval_set'])\n",
    "print ('Displaying updated ORDERS Table')\n",
    "print ('-----------------------------------------------------------------------')\n",
    "print (df_ords1.head())"
   ]
  },
  {
   "cell_type": "code",
   "execution_count": 73,
   "id": "4328c469-cba7-4bb0-946b-d15f899edcdb",
   "metadata": {},
   "outputs": [
    {
     "name": "stdout",
     "output_type": "stream",
     "text": [
      "Displaying PRODUCTS Table\n",
      "-----------------------------------------------------------------------\n",
      "   product_id                                       product_name  aisle_id  \\\n",
      "0           1                         Chocolate Sandwich Cookies        61   \n",
      "1           2                                   All-Seasons Salt       104   \n",
      "2           3               Robust Golden Unsweetened Oolong Tea        94   \n",
      "3           4  Smart Ones Classic Favorites Mini Rigatoni Wit...        38   \n",
      "4           5                          Green Chile Anytime Sauce         5   \n",
      "\n",
      "   department_id  prices  \n",
      "0             19     5.8  \n",
      "1             13     9.3  \n",
      "2              7     4.5  \n",
      "3              1    10.5  \n",
      "4             13     4.3  \n"
     ]
    }
   ],
   "source": [
    "df_prods = pd.read_csv(os.path.join(path, '02 Data', 'Original Data', '4.3_orders_products', 'products.csv'), index_col = False)\n",
    "print ('Displaying PRODUCTS Table')\n",
    "print ('-----------------------------------------------------------------------')\n",
    "print (df_prods.head())\n",
    "# df_prods1 = df_prods.drop(columns = ['aisle_id']) # Incase we thought of dropping aisle_id\n",
    "# print ('Displaying updated PRODUCTS Table')\n",
    "# print ('-----------------------------------------------------------------------')\n",
    "# print (df_prods1.head())"
   ]
  },
  {
   "cell_type": "markdown",
   "id": "13e2ad5f-2615-4730-8842-e78beb8fb65e",
   "metadata": {},
   "source": [
    "# 03. Other Procedures"
   ]
  },
  {
   "cell_type": "code",
   "execution_count": 27,
   "id": "08052712-3005-42bb-9786-cb927d0ed76c",
   "metadata": {},
   "outputs": [],
   "source": [
    "# Another identifier variable in the df_ords dataframe that need not be included in the analysis as a numeric variable\n",
    "df_ords1['order_id'] = df_ords1['order_id'].astype('str')"
   ]
  },
  {
   "cell_type": "code",
   "execution_count": 28,
   "id": "9f0c77d3-64f9-4e82-a372-d65a4d27855d",
   "metadata": {},
   "outputs": [],
   "source": [
    "# Changing the name of order_dow without overwriting the dataframe\n",
    "df_ords_rn = df_ords1.rename(columns={'order_dow': 'order_day_of_week'})"
   ]
  },
  {
   "cell_type": "code",
   "execution_count": 41,
   "id": "5373d7f2-ebb3-45d5-b229-2d057c0ec831",
   "metadata": {},
   "outputs": [
    {
     "name": "stdout",
     "output_type": "stream",
     "text": [
      "The busiest hour for placing orders is : 10\n",
      "Order frequency by hour:\n",
      "order_hour_of_day\n",
      "10    288418\n",
      "11    284728\n",
      "15    283639\n",
      "14    283042\n",
      "13    277999\n",
      "12    272841\n",
      "16    272553\n",
      "9     257812\n",
      "17    228795\n",
      "18    182912\n",
      "8     178201\n",
      "19    140569\n",
      "20    104292\n",
      "7      91868\n",
      "21     78109\n",
      "22     61468\n",
      "23     40043\n",
      "6      30529\n",
      "0      22758\n",
      "1      12398\n",
      "5       9569\n",
      "2       7539\n",
      "4       5527\n",
      "3       5474\n",
      "Name: count, dtype: int64\n"
     ]
    }
   ],
   "source": [
    "# Busiest hour for placing orders\n",
    "busiest_hour = df_ords_rn['order_hour_of_day'].value_counts().idxmax()\n",
    "# idxmax(): Identifies the hour with the highest frequency\n",
    "order_counts = df_ords_rn['order_hour_of_day'].value_counts()\n",
    "# value_counts(): Counts how many orders were placed at each hour\n",
    "print (f\"The busiest hour for placing orders is : {busiest_hour}\")\n",
    "print (\"Order frequency by hour:\")\n",
    "print (order_counts)"
   ]
  },
  {
   "cell_type": "code",
   "execution_count": 33,
   "id": "4a5c50be-27ba-427f-ac92-dec1032141d1",
   "metadata": {},
   "outputs": [
    {
     "name": "stdout",
     "output_type": "stream",
     "text": [
      "  department_id       1      2       3        4        5              6  \\\n",
      "0    department  frozen  other  bakery  produce  alcohol  international   \n",
      "\n",
      "           7     8                9  ...            12      13         14  \\\n",
      "0  beverages  pets  dry goods pasta  ...  meat seafood  pantry  breakfast   \n",
      "\n",
      "             15          16         17      18      19    20       21  \n",
      "0  canned goods  dairy eggs  household  babies  snacks  deli  missing  \n",
      "\n",
      "[1 rows x 22 columns]\n"
     ]
    }
   ],
   "source": [
    "# Importing the \"departments.csv\" file by creating a string\n",
    "df_dep = pd.read_csv(os.path.join(path, '02 Data', 'Original Data', 'departments.csv'), index_col = False)\n",
    "print (df_dep.head())"
   ]
  },
  {
   "cell_type": "code",
   "execution_count": 67,
   "id": "8da199f6-6a1a-4ef2-a708-dd4ad328f4de",
   "metadata": {},
   "outputs": [
    {
     "data": {
      "text/html": [
       "<div>\n",
       "<style scoped>\n",
       "    .dataframe tbody tr th:only-of-type {\n",
       "        vertical-align: middle;\n",
       "    }\n",
       "\n",
       "    .dataframe tbody tr th {\n",
       "        vertical-align: top;\n",
       "    }\n",
       "\n",
       "    .dataframe thead th {\n",
       "        text-align: right;\n",
       "    }\n",
       "</style>\n",
       "<table border=\"1\" class=\"dataframe\">\n",
       "  <thead>\n",
       "    <tr style=\"text-align: right;\">\n",
       "      <th></th>\n",
       "      <th>0</th>\n",
       "    </tr>\n",
       "  </thead>\n",
       "  <tbody>\n",
       "    <tr>\n",
       "      <th>department_id</th>\n",
       "      <td>department</td>\n",
       "    </tr>\n",
       "    <tr>\n",
       "      <th>1</th>\n",
       "      <td>frozen</td>\n",
       "    </tr>\n",
       "    <tr>\n",
       "      <th>2</th>\n",
       "      <td>other</td>\n",
       "    </tr>\n",
       "    <tr>\n",
       "      <th>3</th>\n",
       "      <td>bakery</td>\n",
       "    </tr>\n",
       "    <tr>\n",
       "      <th>4</th>\n",
       "      <td>produce</td>\n",
       "    </tr>\n",
       "    <tr>\n",
       "      <th>5</th>\n",
       "      <td>alcohol</td>\n",
       "    </tr>\n",
       "    <tr>\n",
       "      <th>6</th>\n",
       "      <td>international</td>\n",
       "    </tr>\n",
       "    <tr>\n",
       "      <th>7</th>\n",
       "      <td>beverages</td>\n",
       "    </tr>\n",
       "    <tr>\n",
       "      <th>8</th>\n",
       "      <td>pets</td>\n",
       "    </tr>\n",
       "    <tr>\n",
       "      <th>9</th>\n",
       "      <td>dry goods pasta</td>\n",
       "    </tr>\n",
       "    <tr>\n",
       "      <th>10</th>\n",
       "      <td>bulk</td>\n",
       "    </tr>\n",
       "    <tr>\n",
       "      <th>11</th>\n",
       "      <td>personal care</td>\n",
       "    </tr>\n",
       "    <tr>\n",
       "      <th>12</th>\n",
       "      <td>meat seafood</td>\n",
       "    </tr>\n",
       "    <tr>\n",
       "      <th>13</th>\n",
       "      <td>pantry</td>\n",
       "    </tr>\n",
       "    <tr>\n",
       "      <th>14</th>\n",
       "      <td>breakfast</td>\n",
       "    </tr>\n",
       "    <tr>\n",
       "      <th>15</th>\n",
       "      <td>canned goods</td>\n",
       "    </tr>\n",
       "    <tr>\n",
       "      <th>16</th>\n",
       "      <td>dairy eggs</td>\n",
       "    </tr>\n",
       "    <tr>\n",
       "      <th>17</th>\n",
       "      <td>household</td>\n",
       "    </tr>\n",
       "    <tr>\n",
       "      <th>18</th>\n",
       "      <td>babies</td>\n",
       "    </tr>\n",
       "    <tr>\n",
       "      <th>19</th>\n",
       "      <td>snacks</td>\n",
       "    </tr>\n",
       "    <tr>\n",
       "      <th>20</th>\n",
       "      <td>deli</td>\n",
       "    </tr>\n",
       "    <tr>\n",
       "      <th>21</th>\n",
       "      <td>missing</td>\n",
       "    </tr>\n",
       "  </tbody>\n",
       "</table>\n",
       "</div>"
      ],
      "text/plain": [
       "                             0\n",
       "department_id       department\n",
       "1                       frozen\n",
       "2                        other\n",
       "3                       bakery\n",
       "4                      produce\n",
       "5                      alcohol\n",
       "6                international\n",
       "7                    beverages\n",
       "8                         pets\n",
       "9              dry goods pasta\n",
       "10                        bulk\n",
       "11               personal care\n",
       "12                meat seafood\n",
       "13                      pantry\n",
       "14                   breakfast\n",
       "15                canned goods\n",
       "16                  dairy eggs\n",
       "17                   household\n",
       "18                      babies\n",
       "19                      snacks\n",
       "20                        deli\n",
       "21                     missing"
      ]
     },
     "execution_count": 67,
     "metadata": {},
     "output_type": "execute_result"
    }
   ],
   "source": [
    "# Transposing df_dep\n",
    "df_dep_t = df_dep.T\n",
    "df_dep_t.head(22)"
   ]
  },
  {
   "cell_type": "code",
   "execution_count": 68,
   "id": "30e3e9e2-e877-4e47-86ea-97621606018b",
   "metadata": {},
   "outputs": [
    {
     "name": "stdout",
     "output_type": "stream",
     "text": [
      "department_id       department\n",
      "1                       frozen\n",
      "2                        other\n",
      "3                       bakery\n",
      "4                      produce\n",
      "5                      alcohol\n",
      "6                international\n",
      "7                    beverages\n",
      "8                         pets\n",
      "9              dry goods pasta\n",
      "10                        bulk\n",
      "11               personal care\n",
      "12                meat seafood\n",
      "13                      pantry\n",
      "14                   breakfast\n",
      "15                canned goods\n",
      "16                  dairy eggs\n",
      "17                   household\n",
      "18                      babies\n",
      "19                      snacks\n",
      "20                        deli\n",
      "21                     missing\n"
     ]
    }
   ],
   "source": [
    "# To remove the 0 and get the table with the headings\n",
    "df_dep_t.reset_index()\n",
    "new_header = df_dep_t.iloc[0]\n",
    "df_dep_t_new = df_dep_t[1:]\n",
    "df_dep_t_new.columns = new_header\n",
    "print(df_dep_t_new)"
   ]
  },
  {
   "cell_type": "code",
   "execution_count": 69,
   "id": "4d2c2571-1493-49f4-89d9-c4a81eb28b10",
   "metadata": {},
   "outputs": [
    {
     "name": "stdout",
     "output_type": "stream",
     "text": [
      "{'1': {'department': 'frozen'}, '2': {'department': 'other'}, '3': {'department': 'bakery'}, '4': {'department': 'produce'}, '5': {'department': 'alcohol'}, '6': {'department': 'international'}, '7': {'department': 'beverages'}, '8': {'department': 'pets'}, '9': {'department': 'dry goods pasta'}, '10': {'department': 'bulk'}, '11': {'department': 'personal care'}, '12': {'department': 'meat seafood'}, '13': {'department': 'pantry'}, '14': {'department': 'breakfast'}, '15': {'department': 'canned goods'}, '16': {'department': 'dairy eggs'}, '17': {'department': 'household'}, '18': {'department': 'babies'}, '19': {'department': 'snacks'}, '20': {'department': 'deli'}, '21': {'department': 'missing'}}\n"
     ]
    }
   ],
   "source": [
    "# Turning the dep dataframe into a dictionary\n",
    "data_dict = df_dep_t_new.to_dict('index')\n",
    "print (data_dict)"
   ]
  },
  {
   "cell_type": "code",
   "execution_count": 70,
   "id": "13aa2957-2428-491a-bf58-fabe09318ac3",
   "metadata": {},
   "outputs": [
    {
     "name": "stdout",
     "output_type": "stream",
     "text": [
      "{'department': 'produce'}\n"
     ]
    }
   ],
   "source": [
    "# To determine what \"department_id = 4 \" means\n",
    "print(data_dict.get('4'))"
   ]
  },
  {
   "cell_type": "code",
   "execution_count": 74,
   "id": "8fd58f16-714f-4e42-82ea-a3c63b2ebf6f",
   "metadata": {},
   "outputs": [
    {
     "name": "stdout",
     "output_type": "stream",
     "text": [
      "       product_id                                       product_name  \\\n",
      "27             28                                  Wheat Chex Cereal   \n",
      "33             34                                                NaN   \n",
      "67             68                            Pancake Mix, Buttermilk   \n",
      "89             90                                       Smorz Cereal   \n",
      "210           211   Gluten Free Organic Cereal Coconut Maple Vanilla   \n",
      "...           ...                                                ...   \n",
      "49330       49326                            Cereal Variety Fun Pack   \n",
      "49395       49391            Light and Fluffy Buttermilk Pancake Mix   \n",
      "49547       49543                          Chocolate Cheerios Cereal   \n",
      "49637       49633               Shake 'N Pour Buttermilk Pancake Mix   \n",
      "49667       49663  Ultra Protein Power Crunch Peanut Butter N' Ho...   \n",
      "\n",
      "       aisle_id  department_id  prices  \n",
      "27          121             14    10.1  \n",
      "33          121             14    12.2  \n",
      "67          130             14    13.7  \n",
      "89          121             14     3.9  \n",
      "210         130             14     3.6  \n",
      "...         ...            ...     ...  \n",
      "49330       121             14     9.1  \n",
      "49395       130             14     2.0  \n",
      "49547       121             14    10.8  \n",
      "49637       130             14    14.2  \n",
      "49667        57             14    10.2  \n",
      "\n",
      "[1116 rows x 5 columns]\n"
     ]
    }
   ],
   "source": [
    "# Creating a subset for the df_prods1 dataframe that only contains data from the breakfast department\n",
    "df_breakfast =  df_prods[df_prods['department_id']==14]\n",
    "print (df_breakfast)"
   ]
  },
  {
   "cell_type": "code",
   "execution_count": 79,
   "id": "1de2e8a8-2d5b-45ef-a424-109dfcdffc8d",
   "metadata": {},
   "outputs": [
    {
     "name": "stdout",
     "output_type": "stream",
     "text": [
      "\n",
      "Dinner Party Items :\n",
      "Empty DataFrame\n",
      "Columns: [product_id, product_name, aisle_id, department_id, prices]\n",
      "Index: []\n"
     ]
    }
   ],
   "source": [
    "#  To find all observations from the entire dataframe that include items from the following departments : alcohol, deli, beverages and meat seafood\n",
    "dinner_party_subset = df_prods[df_prods['department_id'].isin(['alcohol', 'deli', 'beverages', 'meat seafood'])]\n",
    "print(\"\\nDinner Party Items :\")\n",
    "print(dinner_party_subset)"
   ]
  },
  {
   "cell_type": "code",
   "execution_count": 80,
   "id": "9d14bf74-cd05-4cb0-8fc1-7806c47a4a66",
   "metadata": {},
   "outputs": [
    {
     "name": "stdout",
     "output_type": "stream",
     "text": [
      "The dinner_party_subset dataframe has 0 rows.\n"
     ]
    }
   ],
   "source": [
    "# Check the number of rows in the dinner_party_subset dataframe\n",
    "row_count = dinner_party_subset.shape[0]\n",
    "print(f\"The dinner_party_subset dataframe has {row_count} rows.\")"
   ]
  },
  {
   "cell_type": "code",
   "execution_count": 81,
   "id": "59b37c66-b618-4743-9e7b-5fd8a7a01bc7",
   "metadata": {},
   "outputs": [
    {
     "name": "stdout",
     "output_type": "stream",
     "text": [
      "Information for user_id = 1 : \n",
      "   order_id  user_id  order_number  order_day_of_week  order_hour_of_day  \\\n",
      "0   2539329        1             1                  2                  8   \n",
      "1   2398795        1             2                  3                  7   \n",
      "2    473747        1             3                  3                 12   \n",
      "3   2254736        1             4                  4                  7   \n",
      "4    431534        1             5                  4                 15   \n",
      "5   3367565        1             6                  2                  7   \n",
      "6    550135        1             7                  1                  9   \n",
      "7   3108588        1             8                  1                 14   \n",
      "8   2295261        1             9                  1                 16   \n",
      "9   2550362        1            10                  4                  8   \n",
      "10  1187899        1            11                  4                  8   \n",
      "\n",
      "    days_since_prior_order  \n",
      "0                      NaN  \n",
      "1                     15.0  \n",
      "2                     21.0  \n",
      "3                     29.0  \n",
      "4                     28.0  \n",
      "5                     19.0  \n",
      "6                     20.0  \n",
      "7                     14.0  \n",
      "8                      0.0  \n",
      "9                     30.0  \n",
      "10                    14.0  \n"
     ]
    }
   ],
   "source": [
    "# Filter the dataframe for rows where user_id is 1\n",
    "user_id_1 = df_ords_rn[df_ords_rn['user_id'] == 1]\n",
    "\n",
    "# Display the information for user_id = 1\n",
    "print (\"Information for user_id = 1 : \")\n",
    "print (user_id_1)\n"
   ]
  },
  {
   "cell_type": "code",
   "execution_count": 85,
   "id": "ca8ef841-3885-4b18-bf46-ae722228fc14",
   "metadata": {},
   "outputs": [
    {
     "name": "stdout",
     "output_type": "stream",
     "text": [
      "\n",
      "Basic Stats for user_id = 1\n",
      "Total Orders: 11\n",
      "Most Frequent Day of Week: 4\n",
      "Most Common Hour of Day: 7\n",
      "Average Days Between Orders: 19.00\n"
     ]
    }
   ],
   "source": [
    "# Calculating basic stats for user_id = 1\n",
    "total_orders = user_id_1.shape[0]\n",
    "most_common_dow = user_id_1['order_day_of_week'].mode()[0]\n",
    "most_common_hour = user_id_1['order_hour_of_day'].mode()[0]\n",
    "avg_days_between_orders = user_id_1['days_since_prior_order'].mean()\n",
    "\n",
    "# Print the stats\n",
    "\n",
    "print(f\"\\nBasic Stats for user_id = 1\")\n",
    "print(f\"Total Orders: {total_orders}\")\n",
    "print(f\"Most Frequent Day of Week: {most_common_dow}\")\n",
    "print(f\"Most Common Hour of Day: {most_common_hour}\")\n",
    "print(f\"Average Days Between Orders: {avg_days_between_orders:.2f}\")\n"
   ]
  },
  {
   "cell_type": "code",
   "execution_count": 86,
   "id": "8b995ca1-8e71-48f0-a77e-4f0a06fee7df",
   "metadata": {},
   "outputs": [],
   "source": [
    "# Exporting the ords_rn dataframe as “orders_wrangled.csv” into the “Prepared Data” folder\n",
    "df_ords_rn.to_csv(os.path.join(path, '02 Data','Prepared Data', 'orders_wrangled.csv'))\n",
    "# Exporting the df_dep_t_new dataframe as “departments_wrangled.csv” into the “Prepared Data” folder\n",
    "df_dep_t_new.to_csv(os.path.join(path, '02 Data','Prepared Data', 'departments_wrangled.csv'))"
   ]
  },
  {
   "cell_type": "code",
   "execution_count": null,
   "id": "4de0a8a9-fb49-468a-9b8e-df9142e6d314",
   "metadata": {},
   "outputs": [],
   "source": []
  }
 ],
 "metadata": {
  "kernelspec": {
   "display_name": "Python 3 (ipykernel)",
   "language": "python",
   "name": "python3"
  },
  "language_info": {
   "codemirror_mode": {
    "name": "ipython",
    "version": 3
   },
   "file_extension": ".py",
   "mimetype": "text/x-python",
   "name": "python",
   "nbconvert_exporter": "python",
   "pygments_lexer": "ipython3",
   "version": "3.12.7"
  }
 },
 "nbformat": 4,
 "nbformat_minor": 5
}
