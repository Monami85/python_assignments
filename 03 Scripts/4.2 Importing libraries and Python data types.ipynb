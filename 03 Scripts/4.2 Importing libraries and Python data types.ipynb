{
 "cells": [
  {
   "cell_type": "markdown",
   "id": "589104ac-0fab-4a1d-a4ee-51eca9c1cc4d",
   "metadata": {},
   "source": [
    "# 01. Importing libraries"
   ]
  },
  {
   "cell_type": "code",
   "execution_count": 2,
   "id": "8d5139b1-01e5-477f-93b8-d1098d2ffae0",
   "metadata": {},
   "outputs": [],
   "source": [
    "# Import libraries\n",
    "import pandas as pd\n",
    "import numpy as np\n",
    "import os"
   ]
  },
  {
   "cell_type": "markdown",
   "id": "8c98aa27-f820-4fee-b1b8-ed88629de40a",
   "metadata": {},
   "source": [
    "# 02. Data Types"
   ]
  },
  {
   "cell_type": "code",
   "execution_count": 3,
   "id": "3999c082-d2ad-422b-b44a-f3e5587fcb1c",
   "metadata": {},
   "outputs": [
    {
     "name": "stdout",
     "output_type": "stream",
     "text": [
      "Result is 100\n"
     ]
    }
   ],
   "source": [
    "## Adding two numbers\n",
    "a = 50\n",
    "b = 50\n",
    "c = a+b\n",
    "print (\"Result is\",c)"
   ]
  },
  {
   "cell_type": "code",
   "execution_count": 4,
   "id": "f887d5a7-8889-4e0f-9be4-83fbd95741da",
   "metadata": {},
   "outputs": [
    {
     "name": "stdout",
     "output_type": "stream",
     "text": [
      "Result is 100\n"
     ]
    }
   ],
   "source": [
    "## Adding two numbers\n",
    "d = 90\n",
    "e = 10\n",
    "f = d + e\n",
    "print (\"Result is\",f)"
   ]
  },
  {
   "cell_type": "code",
   "execution_count": 5,
   "id": "e029d17c-e636-42da-ab44-93cfaad8fc02",
   "metadata": {},
   "outputs": [
    {
     "name": "stdout",
     "output_type": "stream",
     "text": [
      "Result is 100\n"
     ]
    }
   ],
   "source": [
    "## Substracting two numbers\n",
    "m = 140\n",
    "n = 40\n",
    "o = m - n\n",
    "print (\"Result is\",o)"
   ]
  },
  {
   "cell_type": "code",
   "execution_count": 6,
   "id": "e378df1a-2c62-4d1c-9397-41ecc05b325e",
   "metadata": {},
   "outputs": [
    {
     "name": "stdout",
     "output_type": "stream",
     "text": [
      "Result is 3.5160610847814637\n"
     ]
    }
   ],
   "source": [
    "## Dividing floating point numbers\n",
    "u = 6.677\n",
    "l = 1.899\n",
    "re = u / l\n",
    "print (\"Result is\",re)"
   ]
  },
  {
   "cell_type": "code",
   "execution_count": 9,
   "id": "064f9191-244a-45a8-8b54-d67306274404",
   "metadata": {},
   "outputs": [
    {
     "name": "stdout",
     "output_type": "stream",
     "text": [
      "Concatenated string : Monami Haldar\n"
     ]
    }
   ],
   "source": [
    "## string concatenation\n",
    "str1 = 'Monami '\n",
    "str2 = 'Haldar'\n",
    "str3 = str1 + str2\n",
    "print (\"Concatenated string :\",str3)"
   ]
  },
  {
   "cell_type": "code",
   "execution_count": 14,
   "id": "7ac08d8c-fb65-4a7e-bd4d-763a42c956ae",
   "metadata": {},
   "outputs": [
    {
     "name": "stdout",
     "output_type": "stream",
     "text": [
      "Concatenated sentence :  My name is Monami Haldar \n"
     ]
    }
   ],
   "source": [
    "## sentence construction using concatenation\n",
    "sen1 = ' My name is'\n",
    "sen2 = ' Monami Haldar '\n",
    "sen3 = sen1 + sen2\n",
    "print (\"Concatenated sentence :\",sen3)"
   ]
  },
  {
   "cell_type": "code",
   "execution_count": 15,
   "id": "8f0590d2-d769-43f8-92d5-af9d6cc8f571",
   "metadata": {},
   "outputs": [
    {
     "data": {
      "text/plain": [
       "'Monami likes Python/ Monami likes Python/ Monami likes Python/ Monami likes Python/ Monami likes Python/ Monami likes Python/ Monami likes Python/ Monami likes Python/ Monami likes Python/ Monami likes Python/ Monami likes Python/ Monami likes Python/ Monami likes Python/ Monami likes Python/ Monami likes Python/ Monami likes Python/ Monami likes Python/ Monami likes Python/ Monami likes Python/ Monami likes Python/ Monami likes Python/ Monami likes Python/ Monami likes Python/ Monami likes Python/ Monami likes Python/ Monami likes Python/ Monami likes Python/ Monami likes Python/ Monami likes Python/ Monami likes Python/ Monami likes Python/ Monami likes Python/ Monami likes Python/ Monami likes Python/ Monami likes Python/ Monami likes Python/ Monami likes Python/ Monami likes Python/ Monami likes Python/ Monami likes Python/ Monami likes Python/ Monami likes Python/ Monami likes Python/ Monami likes Python/ Monami likes Python/ Monami likes Python/ Monami likes Python/ Monami likes Python/ Monami likes Python/ Monami likes Python/ Monami likes Python/ Monami likes Python/ Monami likes Python/ Monami likes Python/ Monami likes Python/ Monami likes Python/ Monami likes Python/ Monami likes Python/ Monami likes Python/ Monami likes Python/ Monami likes Python/ Monami likes Python/ Monami likes Python/ Monami likes Python/ Monami likes Python/ Monami likes Python/ Monami likes Python/ Monami likes Python/ Monami likes Python/ Monami likes Python/ Monami likes Python/ Monami likes Python/ Monami likes Python/ Monami likes Python/ Monami likes Python/ Monami likes Python/ Monami likes Python/ Monami likes Python/ Monami likes Python/ Monami likes Python/ Monami likes Python/ Monami likes Python/ Monami likes Python/ Monami likes Python/ Monami likes Python/ Monami likes Python/ Monami likes Python/ Monami likes Python/ Monami likes Python/ Monami likes Python/ Monami likes Python/ Monami likes Python/ Monami likes Python/ Monami likes Python/ Monami likes Python/ Monami likes Python/ Monami likes Python/ Monami likes Python/ Monami likes Python/ Monami likes Python/ '"
      ]
     },
     "execution_count": 15,
     "metadata": {},
     "output_type": "execute_result"
    }
   ],
   "source": [
    "## Bonus task\n",
    "n = 'Monami likes Python/ '\n",
    "n * 100"
   ]
  },
  {
   "cell_type": "code",
   "execution_count": null,
   "id": "45036079-6517-4bc9-9dd5-0c900ba3fefb",
   "metadata": {},
   "outputs": [],
   "source": []
  }
 ],
 "metadata": {
  "kernelspec": {
   "display_name": "Python 3 (ipykernel)",
   "language": "python",
   "name": "python3"
  },
  "language_info": {
   "codemirror_mode": {
    "name": "ipython",
    "version": 3
   },
   "file_extension": ".py",
   "mimetype": "text/x-python",
   "name": "python",
   "nbconvert_exporter": "python",
   "pygments_lexer": "ipython3",
   "version": "3.12.7"
  }
 },
 "nbformat": 4,
 "nbformat_minor": 5
}
