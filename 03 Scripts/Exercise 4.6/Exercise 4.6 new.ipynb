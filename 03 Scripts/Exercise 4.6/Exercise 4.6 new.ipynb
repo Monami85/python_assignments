{
 "cells": [
  {
   "cell_type": "markdown",
   "id": "9a4a7add-4759-492c-a418-f19c9f94d2f9",
   "metadata": {},
   "source": [
    "# Importing Libraries"
   ]
  },
  {
   "cell_type": "code",
   "execution_count": 14,
   "id": "8e4307e0-1f2a-46ea-8ec3-4097c2d5efa5",
   "metadata": {},
   "outputs": [],
   "source": [
    "# Import libraries\n",
    "import pandas as pd\n",
    "import numpy as np\n",
    "import os"
   ]
  },
  {
   "cell_type": "code",
   "execution_count": 15,
   "id": "67f2139a-6172-422f-95fe-1493d395a352",
   "metadata": {},
   "outputs": [
    {
     "name": "stdout",
     "output_type": "stream",
     "text": [
      "C:\\Users\\rbhte\\OneDrive\\Documents\\Achievement_4_Monami\\Instacart Basket Analysis\n",
      "   product_id                                       product_name  aisle_id  \\\n",
      "0           1                         Chocolate Sandwich Cookies        61   \n",
      "1           2                                   All-Seasons Salt       104   \n",
      "2           3               Robust Golden Unsweetened Oolong Tea        94   \n",
      "3           4  Smart Ones Classic Favorites Mini Rigatoni Wit...        38   \n",
      "4           5                          Green Chile Anytime Sauce         5   \n",
      "\n",
      "   department_id  prices  \n",
      "0             19     5.8  \n",
      "1             13     9.3  \n",
      "2              7     4.5  \n",
      "3              1    10.5  \n",
      "4             13     4.3  \n",
      "-----------------------------------\n",
      "<class 'pandas.core.frame.DataFrame'>\n",
      "Index: 49672 entries, 0 to 49692\n",
      "Data columns (total 5 columns):\n",
      " #   Column         Non-Null Count  Dtype  \n",
      "---  ------         --------------  -----  \n",
      " 0   product_id     49672 non-null  int64  \n",
      " 1   product_name   49672 non-null  object \n",
      " 2   aisle_id       49672 non-null  int64  \n",
      " 3   department_id  49672 non-null  int64  \n",
      " 4   prices         49672 non-null  float64\n",
      "dtypes: float64(1), int64(3), object(1)\n",
      "memory usage: 5.7 MB\n",
      "-----------------------------------\n",
      "   order_id  user_id  order_number  order_day_of_week  order_hour_of_day  \\\n",
      "0   2539329        1             1                  2                  8   \n",
      "1   2398795        1             2                  3                  7   \n",
      "2    473747        1             3                  3                 12   \n",
      "3   2254736        1             4                  4                  7   \n",
      "4    431534        1             5                  4                 15   \n",
      "\n",
      "   days_since_prior_order  new_customer  \n",
      "0                     NaN          True  \n",
      "1                    15.0         False  \n",
      "2                    21.0         False  \n",
      "3                    29.0         False  \n",
      "4                    28.0         False  \n",
      "-----------------------------------\n",
      "<class 'pandas.core.frame.DataFrame'>\n",
      "Index: 3421083 entries, 0 to 3421082\n",
      "Data columns (total 7 columns):\n",
      " #   Column                  Dtype  \n",
      "---  ------                  -----  \n",
      " 0   order_id                int64  \n",
      " 1   user_id                 int64  \n",
      " 2   order_number            int64  \n",
      " 3   order_day_of_week       int64  \n",
      " 4   order_hour_of_day       int64  \n",
      " 5   days_since_prior_order  float64\n",
      " 6   new_customer            bool   \n",
      "dtypes: bool(1), float64(1), int64(5)\n",
      "memory usage: 186.0 MB\n",
      "-----------------------------------\n",
      "          product_id  add_to_cart_order  reordered\n",
      "order_id                                          \n",
      "2              33120                  1          1\n",
      "2              28985                  2          1\n",
      "2               9327                  3          0\n",
      "2              45918                  4          1\n",
      "2              30035                  5          0\n",
      "-----------------------------------\n",
      "<class 'pandas.core.frame.DataFrame'>\n",
      "Index: 32434489 entries, 2 to 3421083\n",
      "Data columns (total 3 columns):\n",
      " #   Column             Dtype\n",
      "---  ------             -----\n",
      " 0   product_id         int64\n",
      " 1   add_to_cart_order  int64\n",
      " 2   reordered          int64\n",
      "dtypes: int64(3)\n",
      "memory usage: 989.8 MB\n",
      "-----------------------------------\n"
     ]
    }
   ],
   "source": [
    "# Importing “products_cleaned.csv” data set from the “Prepared Data” folder as df_prods by creating a string of the path\n",
    "\n",
    "path = r'C:\\Users\\rbhte\\OneDrive\\Documents\\Achievement_4_Monami\\Instacart Basket Analysis'\n",
    "print (path)\n",
    "\n",
    "df_prods = pd.read_csv(os.path.join(path, '02 Data', 'Prepared Data', 'products_cleaned.csv'), index_col = 0)\n",
    "print (df_prods.head())\n",
    "\n",
    "print ('-----------------------------------')\n",
    "df_prods.info(memory_usage = \"deep\")\n",
    "print ('-----------------------------------')\n",
    "\n",
    "# Importing “orders_cleaned.csv” data set from the “Prepared Data” folder as df_ords by creating a string of the path\n",
    "                                    \n",
    "df_ords = pd.read_csv(os.path.join(path, '02 Data', 'Prepared Data', 'orders_cleaned.csv'), index_col = 0)\n",
    "print (df_ords.head())\n",
    "\n",
    "print ('-----------------------------------')\n",
    "df_ords.info(memory_usage = \"deep\")\n",
    "print ('-----------------------------------')\n",
    "\n",
    "# Importing “orders_products_prior.csv” data set from the “Original Data” folder as df_ords_prior\n",
    "       \n",
    "df_ords_prior = pd.read_csv(os.path.join(path, '02 Data', 'Original Data', 'orders_products_prior.csv'), index_col = 0)\n",
    "print (df_ords_prior.head())\n",
    "\n",
    "print ('-----------------------------------')\n",
    "df_ords_prior.info(memory_usage = \"deep\")\n",
    "print ('-----------------------------------')"
   ]
  },
  {
   "cell_type": "code",
   "execution_count": 16,
   "id": "918b0b1f-2192-4951-8550-6997abceaa3b",
   "metadata": {},
   "outputs": [
    {
     "data": {
      "text/plain": [
       "(3421083, 7)"
      ]
     },
     "execution_count": 16,
     "metadata": {},
     "output_type": "execute_result"
    }
   ],
   "source": [
    "# To check the shape of the dataframe\n",
    "df_ords.shape"
   ]
  },
  {
   "cell_type": "code",
   "execution_count": 17,
   "id": "b54df359-64c3-4365-814b-d3e36dd8d892",
   "metadata": {},
   "outputs": [
    {
     "data": {
      "text/plain": [
       "(32434489, 3)"
      ]
     },
     "execution_count": 17,
     "metadata": {},
     "output_type": "execute_result"
    }
   ],
   "source": [
    "df_ords_prior.shape"
   ]
  },
  {
   "cell_type": "markdown",
   "id": "81018e87-17ae-40d5-9f5d-30d77775c3b8",
   "metadata": {},
   "source": [
    "# Create a new dataframe, df_merged_large that contains the combined df_ords and df_ords_prior dataframes and uses the “order_id” column as the key"
   ]
  },
  {
   "cell_type": "code",
   "execution_count": 23,
   "id": "25d1bdd5-7704-4d20-9ba7-ee157c46b90a",
   "metadata": {},
   "outputs": [],
   "source": [
    "df_merged_large = df_ords.merge(df_ords_prior, on = 'order_id', indicator = True)"
   ]
  },
  {
   "cell_type": "code",
   "execution_count": 25,
   "id": "e59da646-e142-4694-b9ff-67be6b0f39a4",
   "metadata": {},
   "outputs": [
    {
     "data": {
      "text/html": [
       "<div>\n",
       "<style scoped>\n",
       "    .dataframe tbody tr th:only-of-type {\n",
       "        vertical-align: middle;\n",
       "    }\n",
       "\n",
       "    .dataframe tbody tr th {\n",
       "        vertical-align: top;\n",
       "    }\n",
       "\n",
       "    .dataframe thead th {\n",
       "        text-align: right;\n",
       "    }\n",
       "</style>\n",
       "<table border=\"1\" class=\"dataframe\">\n",
       "  <thead>\n",
       "    <tr style=\"text-align: right;\">\n",
       "      <th></th>\n",
       "      <th>order_id</th>\n",
       "      <th>user_id</th>\n",
       "      <th>order_number</th>\n",
       "      <th>order_day_of_week</th>\n",
       "      <th>order_hour_of_day</th>\n",
       "      <th>days_since_prior_order</th>\n",
       "      <th>new_customer</th>\n",
       "      <th>product_id</th>\n",
       "      <th>add_to_cart_order</th>\n",
       "      <th>reordered</th>\n",
       "      <th>_merge</th>\n",
       "    </tr>\n",
       "  </thead>\n",
       "  <tbody>\n",
       "    <tr>\n",
       "      <th>0</th>\n",
       "      <td>2539329</td>\n",
       "      <td>1</td>\n",
       "      <td>1</td>\n",
       "      <td>2</td>\n",
       "      <td>8</td>\n",
       "      <td>NaN</td>\n",
       "      <td>True</td>\n",
       "      <td>196</td>\n",
       "      <td>1</td>\n",
       "      <td>0</td>\n",
       "      <td>both</td>\n",
       "    </tr>\n",
       "    <tr>\n",
       "      <th>1</th>\n",
       "      <td>2539329</td>\n",
       "      <td>1</td>\n",
       "      <td>1</td>\n",
       "      <td>2</td>\n",
       "      <td>8</td>\n",
       "      <td>NaN</td>\n",
       "      <td>True</td>\n",
       "      <td>14084</td>\n",
       "      <td>2</td>\n",
       "      <td>0</td>\n",
       "      <td>both</td>\n",
       "    </tr>\n",
       "    <tr>\n",
       "      <th>2</th>\n",
       "      <td>2539329</td>\n",
       "      <td>1</td>\n",
       "      <td>1</td>\n",
       "      <td>2</td>\n",
       "      <td>8</td>\n",
       "      <td>NaN</td>\n",
       "      <td>True</td>\n",
       "      <td>12427</td>\n",
       "      <td>3</td>\n",
       "      <td>0</td>\n",
       "      <td>both</td>\n",
       "    </tr>\n",
       "    <tr>\n",
       "      <th>3</th>\n",
       "      <td>2539329</td>\n",
       "      <td>1</td>\n",
       "      <td>1</td>\n",
       "      <td>2</td>\n",
       "      <td>8</td>\n",
       "      <td>NaN</td>\n",
       "      <td>True</td>\n",
       "      <td>26088</td>\n",
       "      <td>4</td>\n",
       "      <td>0</td>\n",
       "      <td>both</td>\n",
       "    </tr>\n",
       "    <tr>\n",
       "      <th>4</th>\n",
       "      <td>2539329</td>\n",
       "      <td>1</td>\n",
       "      <td>1</td>\n",
       "      <td>2</td>\n",
       "      <td>8</td>\n",
       "      <td>NaN</td>\n",
       "      <td>True</td>\n",
       "      <td>26405</td>\n",
       "      <td>5</td>\n",
       "      <td>0</td>\n",
       "      <td>both</td>\n",
       "    </tr>\n",
       "  </tbody>\n",
       "</table>\n",
       "</div>"
      ],
      "text/plain": [
       "   order_id  user_id  order_number  order_day_of_week  order_hour_of_day  \\\n",
       "0   2539329        1             1                  2                  8   \n",
       "1   2539329        1             1                  2                  8   \n",
       "2   2539329        1             1                  2                  8   \n",
       "3   2539329        1             1                  2                  8   \n",
       "4   2539329        1             1                  2                  8   \n",
       "\n",
       "   days_since_prior_order  new_customer  product_id  add_to_cart_order  \\\n",
       "0                     NaN          True         196                  1   \n",
       "1                     NaN          True       14084                  2   \n",
       "2                     NaN          True       12427                  3   \n",
       "3                     NaN          True       26088                  4   \n",
       "4                     NaN          True       26405                  5   \n",
       "\n",
       "   reordered _merge  \n",
       "0          0   both  \n",
       "1          0   both  \n",
       "2          0   both  \n",
       "3          0   both  \n",
       "4          0   both  "
      ]
     },
     "execution_count": 25,
     "metadata": {},
     "output_type": "execute_result"
    }
   ],
   "source": [
    "df_merged_large.head()"
   ]
  },
  {
   "cell_type": "code",
   "execution_count": 26,
   "id": "8c49f49c-cb8c-4b1a-bcea-d27b2a2dae32",
   "metadata": {},
   "outputs": [
    {
     "data": {
      "text/plain": [
       "_merge\n",
       "both          32434489\n",
       "left_only            0\n",
       "right_only           0\n",
       "Name: count, dtype: int64"
      ]
     },
     "execution_count": 26,
     "metadata": {},
     "output_type": "execute_result"
    }
   ],
   "source": [
    "df_merged_large['_merge'].value_counts()"
   ]
  },
  {
   "cell_type": "code",
   "execution_count": 27,
   "id": "af56efea-6672-43c2-a082-aa4c650c7b18",
   "metadata": {},
   "outputs": [
    {
     "data": {
      "text/plain": [
       "['order_id',\n",
       " 'user_id',\n",
       " 'order_number',\n",
       " 'order_day_of_week',\n",
       " 'order_hour_of_day',\n",
       " 'days_since_prior_order',\n",
       " 'new_customer',\n",
       " 'product_id',\n",
       " 'add_to_cart_order',\n",
       " 'reordered',\n",
       " '_merge']"
      ]
     },
     "execution_count": 27,
     "metadata": {},
     "output_type": "execute_result"
    }
   ],
   "source": [
    "# Display the columns as a list\n",
    "list(df_merged_large.columns)"
   ]
  },
  {
   "cell_type": "code",
   "execution_count": 28,
   "id": "a4c2d83b-9621-4a35-88ba-50ab47d2b94d",
   "metadata": {},
   "outputs": [],
   "source": [
    "# Drop the '_merge' column\n",
    "df_merged_big = df_merged_large.drop(columns=['_merge'])"
   ]
  },
  {
   "cell_type": "code",
   "execution_count": 29,
   "id": "f60d99e3-7433-47b3-af0e-b44510327bf4",
   "metadata": {},
   "outputs": [],
   "source": [
    "# Downcasting numerical columns to reduce memory usage\n",
    "for column in df_merged_big.columns:\n",
    "    if df_merged_big[column].dtype == 'float64':\n",
    "        df_merged_big[column] = pd.to_numeric(df_merged_big[column], downcast='float')\n",
    "    elif df_merged_big[column].dtype == 'int64':\n",
    "        df_merged_big[column] = pd.to_numeric(df_merged_big[column], downcast='integer')"
   ]
  },
  {
   "cell_type": "code",
   "execution_count": 30,
   "id": "0890d0b3-240e-4a9b-99ac-fe1fb6b4988c",
   "metadata": {},
   "outputs": [
    {
     "name": "stdout",
     "output_type": "stream",
     "text": [
      "<class 'pandas.core.frame.DataFrame'>\n",
      "RangeIndex: 32434489 entries, 0 to 32434488\n",
      "Data columns (total 10 columns):\n",
      " #   Column                  Dtype  \n",
      "---  ------                  -----  \n",
      " 0   order_id                int32  \n",
      " 1   user_id                 int32  \n",
      " 2   order_number            int8   \n",
      " 3   order_day_of_week       int8   \n",
      " 4   order_hour_of_day       int8   \n",
      " 5   days_since_prior_order  float32\n",
      " 6   new_customer            bool   \n",
      " 7   product_id              int32  \n",
      " 8   add_to_cart_order       int16  \n",
      " 9   reordered               int8   \n",
      "dtypes: bool(1), float32(1), int16(1), int32(3), int8(4)\n",
      "memory usage: 711.4 MB\n",
      "None\n"
     ]
    }
   ],
   "source": [
    "# Check the memory usage after downcasting\n",
    "print(df_merged_big.info())"
   ]
  },
  {
   "cell_type": "code",
   "execution_count": 31,
   "id": "1e851d7f-0042-479c-bceb-26031e8496f6",
   "metadata": {},
   "outputs": [],
   "source": [
    "# Export data to pickle format\n",
    "\n",
    "df_merged_big.to_pickle(os.path.join(path, '02 Data', 'Prepared Data', 'orders_products_combinew.pkl'))"
   ]
  },
  {
   "cell_type": "code",
   "execution_count": 33,
   "id": "4bbfd1db-a6b9-43b9-baac-e754f53c69ca",
   "metadata": {},
   "outputs": [
    {
     "data": {
      "text/plain": [
       "(32434489, 10)"
      ]
     },
     "execution_count": 33,
     "metadata": {},
     "output_type": "execute_result"
    }
   ],
   "source": [
    "df_merged_big.shape"
   ]
  }
 ],
 "metadata": {
  "kernelspec": {
   "display_name": "Python 3 (ipykernel)",
   "language": "python",
   "name": "python3"
  },
  "language_info": {
   "codemirror_mode": {
    "name": "ipython",
    "version": 3
   },
   "file_extension": ".py",
   "mimetype": "text/x-python",
   "name": "python",
   "nbconvert_exporter": "python",
   "pygments_lexer": "ipython3",
   "version": "3.12.7"
  }
 },
 "nbformat": 4,
 "nbformat_minor": 5
}
