{
 "cells": [
  {
   "cell_type": "markdown",
   "id": "7e50d049-c085-423e-8472-d45af3f9aa09",
   "metadata": {},
   "source": [
    "# Importing Libraries"
   ]
  },
  {
   "cell_type": "code",
   "execution_count": 1,
   "id": "9642e45f-06f5-4549-922e-0eaea8f936c7",
   "metadata": {},
   "outputs": [],
   "source": [
    "# Import libraries\n",
    "import pandas as pd\n",
    "import numpy as np\n",
    "import os"
   ]
  },
  {
   "cell_type": "code",
   "execution_count": 2,
   "id": "296d77f4-d534-46e5-83d6-15bd9ac1b8d6",
   "metadata": {},
   "outputs": [
    {
     "name": "stdout",
     "output_type": "stream",
     "text": [
      "C:\\Users\\rbhte\\OneDrive\\Documents\\Achievement_4_Monami\\Instacart Basket Analysis\n",
      ".................................................................................\n",
      "   product_id                                       product_name  aisle_id  \\\n",
      "0           1                         Chocolate Sandwich Cookies        61   \n",
      "1           2                                   All-Seasons Salt       104   \n",
      "2           3               Robust Golden Unsweetened Oolong Tea        94   \n",
      "3           4  Smart Ones Classic Favorites Mini Rigatoni Wit...        38   \n",
      "4           5                          Green Chile Anytime Sauce         5   \n",
      "\n",
      "   department_id  prices  \n",
      "0             19     5.8  \n",
      "1             13     9.3  \n",
      "2              7     4.5  \n",
      "3              1    10.5  \n",
      "4             13     4.3  \n"
     ]
    }
   ],
   "source": [
    "# Importing “products_cleaned.csv” data set from the “Prepared Data” folder as df_prods by creating a string of the path\n",
    "\n",
    "path = r'C:\\Users\\rbhte\\OneDrive\\Documents\\Achievement_4_Monami\\Instacart Basket Analysis'\n",
    "print (path)\n",
    "print ( '.................................................................................')\n",
    "df_prods_c = pd.read_csv(os.path.join(path, '02 Data', 'Prepared Data', 'products_cleaned.csv'), index_col = 0)\n",
    "print ( df_prods_c.head())"
   ]
  },
  {
   "cell_type": "code",
   "execution_count": 3,
   "id": "f58f352b-1f24-41c5-a21c-1dea7bf32ff9",
   "metadata": {},
   "outputs": [
    {
     "name": "stdout",
     "output_type": "stream",
     "text": [
      "   order_id  user_id  order_number  order_day_of_week  order_hour_of_day  \\\n",
      "0   2539329        1             1                  2                  8   \n",
      "1   2539329        1             1                  2                  8   \n",
      "2   2539329        1             1                  2                  8   \n",
      "3   2539329        1             1                  2                  8   \n",
      "4   2539329        1             1                  2                  8   \n",
      "\n",
      "   days_since_prior_order  new_customer  product_id  add_to_cart_order  \\\n",
      "0                     NaN          True         196                  1   \n",
      "1                     NaN          True       14084                  2   \n",
      "2                     NaN          True       12427                  3   \n",
      "3                     NaN          True       26088                  4   \n",
      "4                     NaN          True       26405                  5   \n",
      "\n",
      "   reordered  \n",
      "0          0  \n",
      "1          0  \n",
      "2          0  \n",
      "3          0  \n",
      "4          0  \n"
     ]
    }
   ],
   "source": [
    "# Importing “orders_products_combinew.pkl” data set from the “Prepared Data” folder as df_opc\n",
    "\n",
    "# Correctly reading the pickle file\n",
    "df_opc = pd.read_pickle(os.path.join(path, '02 Data', 'Prepared Data', 'orders_products_combinew.pkl'))\n",
    "\n",
    "# Displaying the first few rows of the DataFrame\n",
    "print(df_opc.head())"
   ]
  },
  {
   "cell_type": "code",
   "execution_count": 4,
   "id": "4923e5cd-9fb1-4c49-bb76-c31004dd9c74",
   "metadata": {},
   "outputs": [
    {
     "data": {
      "text/plain": [
       "(32434489, 10)"
      ]
     },
     "execution_count": 4,
     "metadata": {},
     "output_type": "execute_result"
    }
   ],
   "source": [
    "# Check the shape of the imported dataframe \n",
    "df_opc.shape"
   ]
  },
  {
   "cell_type": "code",
   "execution_count": 5,
   "id": "534a2bc2-ccad-4366-8a2f-4e5031984d55",
   "metadata": {},
   "outputs": [
    {
     "data": {
      "text/plain": [
       "(49672, 5)"
      ]
     },
     "execution_count": 5,
     "metadata": {},
     "output_type": "execute_result"
    }
   ],
   "source": [
    "# Check the shape of the products dataframe\n",
    "df_prods_c.shape"
   ]
  },
  {
   "cell_type": "markdown",
   "id": "7cad26b7-d13d-4242-b978-7222f9582b0e",
   "metadata": {},
   "source": [
    "# A suitable way to combine the orders_products_combined dataframe (df_opc) with the products data set (df_prods)"
   ]
  },
  {
   "cell_type": "code",
   "execution_count": 6,
   "id": "32a82c49-f709-4b25-b23f-f522b08069c8",
   "metadata": {},
   "outputs": [
    {
     "name": "stdout",
     "output_type": "stream",
     "text": [
      "Index(['order_id', 'user_id', 'order_number', 'order_day_of_week',\n",
      "       'order_hour_of_day', 'days_since_prior_order', 'new_customer',\n",
      "       'product_id', 'add_to_cart_order', 'reordered'],\n",
      "      dtype='object')\n"
     ]
    }
   ],
   "source": [
    "print(df_opc.columns)"
   ]
  },
  {
   "cell_type": "code",
   "execution_count": 7,
   "id": "54392d54-ce1b-406d-a663-4bdc84d142ee",
   "metadata": {},
   "outputs": [],
   "source": [
    "# Proceed with merging df_opc and df_prods_c\n",
    "ords_prods_merge = df_opc.merge(df_prods_c, on='product_id', how = 'inner', indicator = True)"
   ]
  },
  {
   "cell_type": "code",
   "execution_count": 8,
   "id": "ffa54711-a5e2-4eb2-bd51-ee060b9a483d",
   "metadata": {},
   "outputs": [
    {
     "name": "stdout",
     "output_type": "stream",
     "text": [
      "_merge\n",
      "both          32404859\n",
      "left_only            0\n",
      "right_only           0\n",
      "Name: count, dtype: int64\n"
     ]
    }
   ],
   "source": [
    "# Check the merge results\n",
    "print(ords_prods_merge['_merge'].value_counts())"
   ]
  },
  {
   "cell_type": "code",
   "execution_count": 9,
   "id": "0610f00f-3b85-4505-a8a3-393ea84b09b6",
   "metadata": {},
   "outputs": [
    {
     "name": "stdout",
     "output_type": "stream",
     "text": [
      "   order_id  user_id  order_number  order_day_of_week  order_hour_of_day  \\\n",
      "0   2539329        1             1                  2                  8   \n",
      "1   2539329        1             1                  2                  8   \n",
      "2   2539329        1             1                  2                  8   \n",
      "3   2539329        1             1                  2                  8   \n",
      "4   2539329        1             1                  2                  8   \n",
      "\n",
      "   days_since_prior_order  new_customer  product_id  add_to_cart_order  \\\n",
      "0                     NaN          True         196                  1   \n",
      "1                     NaN          True       14084                  2   \n",
      "2                     NaN          True       12427                  3   \n",
      "3                     NaN          True       26088                  4   \n",
      "4                     NaN          True       26405                  5   \n",
      "\n",
      "   reordered                             product_name  aisle_id  \\\n",
      "0          0                                     Soda        77   \n",
      "1          0  Organic Unsweetened Vanilla Almond Milk        91   \n",
      "2          0                      Original Beef Jerky        23   \n",
      "3          0               Aged White Cheddar Popcorn        23   \n",
      "4          0         XL Pick-A-Size Paper Towel Rolls        54   \n",
      "\n",
      "   department_id  prices _merge  \n",
      "0              7     9.0   both  \n",
      "1             16    12.5   both  \n",
      "2             19     4.4   both  \n",
      "3             19     4.7   both  \n",
      "4             17     1.0   both  \n"
     ]
    }
   ],
   "source": [
    "print(ords_prods_merge.head())"
   ]
  },
  {
   "cell_type": "code",
   "execution_count": 10,
   "id": "4dd6780f-0e5d-48d0-a50a-308b882df70d",
   "metadata": {},
   "outputs": [],
   "source": [
    "# Drop the '_merge' column after verifying\n",
    "ords_prods_merge1 = ords_prods_merge.drop(columns=['_merge'])"
   ]
  },
  {
   "cell_type": "code",
   "execution_count": 11,
   "id": "33a1d7d3-a7be-4170-bb0f-46da2336ca2d",
   "metadata": {},
   "outputs": [],
   "source": [
    "# Downcasting numerical columns to reduce memory usage in ords_prods_merge1\n",
    "for column in ords_prods_merge1.columns:\n",
    "    if ords_prods_merge1[column].dtype == 'float64':\n",
    "        ords_prods_merge1[column] = pd.to_numeric(ords_prods_merge1[column], downcast='float')\n",
    "    elif ords_prods_merge1[column].dtype == 'int64':\n",
    "        ords_prods_merge1[column] = pd.to_numeric(ords_prods_merge1[column], downcast='integer')"
   ]
  },
  {
   "cell_type": "code",
   "execution_count": 12,
   "id": "1d16a48b-3a0f-4769-aa6f-c861b58c319c",
   "metadata": {},
   "outputs": [
    {
     "name": "stdout",
     "output_type": "stream",
     "text": [
      "<class 'pandas.core.frame.DataFrame'>\n",
      "RangeIndex: 32404859 entries, 0 to 32404858\n",
      "Data columns (total 14 columns):\n",
      " #   Column                  Dtype  \n",
      "---  ------                  -----  \n",
      " 0   order_id                int32  \n",
      " 1   user_id                 int32  \n",
      " 2   order_number            int8   \n",
      " 3   order_day_of_week       int8   \n",
      " 4   order_hour_of_day       int8   \n",
      " 5   days_since_prior_order  float32\n",
      " 6   new_customer            bool   \n",
      " 7   product_id              int32  \n",
      " 8   add_to_cart_order       int16  \n",
      " 9   reordered               int8   \n",
      " 10  product_name            object \n",
      " 11  aisle_id                int16  \n",
      " 12  department_id           int8   \n",
      " 13  prices                  float32\n",
      "dtypes: bool(1), float32(2), int16(2), int32(3), int8(5), object(1)\n",
      "memory usage: 1.1+ GB\n",
      "None\n"
     ]
    }
   ],
   "source": [
    "# Check the memory usage after downcasting\n",
    "print(ords_prods_merge1.info())"
   ]
  },
  {
   "cell_type": "code",
   "execution_count": 15,
   "id": "50afd5a7-de20-4887-88e4-7a0aa2293a30",
   "metadata": {},
   "outputs": [],
   "source": [
    "# Export the merged dataframe in pickle format\n",
    "ords_prods_merge1.to_pickle(os.path.join(path, '02 Data', 'Prepared Data', 'ords_prods_mergenew.pkl'))"
   ]
  },
  {
   "cell_type": "code",
   "execution_count": null,
   "id": "c84d050f-980c-4083-80b2-28f7face43d1",
   "metadata": {},
   "outputs": [],
   "source": []
  }
 ],
 "metadata": {
  "kernelspec": {
   "display_name": "Python 3 (ipykernel)",
   "language": "python",
   "name": "python3"
  },
  "language_info": {
   "codemirror_mode": {
    "name": "ipython",
    "version": 3
   },
   "file_extension": ".py",
   "mimetype": "text/x-python",
   "name": "python",
   "nbconvert_exporter": "python",
   "pygments_lexer": "ipython3",
   "version": "3.12.7"
  }
 },
 "nbformat": 4,
 "nbformat_minor": 5
}
