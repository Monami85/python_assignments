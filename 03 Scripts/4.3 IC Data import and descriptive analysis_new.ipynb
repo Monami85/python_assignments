{
 "cells": [
  {
   "cell_type": "markdown",
   "id": "46705d0d-0498-4ae3-a749-9782822c0533",
   "metadata": {},
   "source": [
    "# 01. Importing libraries"
   ]
  },
  {
   "cell_type": "code",
   "execution_count": 1,
   "id": "4f1b6b85-74f4-443e-a7a4-0f045cea3623",
   "metadata": {},
   "outputs": [],
   "source": [
    "# Import libraries\n",
    "import pandas as pd\n",
    "import numpy as np\n",
    "import os \n"
   ]
  },
  {
   "cell_type": "markdown",
   "id": "8f1aadc1-ece1-42b2-94f1-ccd600b23823",
   "metadata": {},
   "source": [
    "# 02. Creating a string of the path "
   ]
  },
  {
   "cell_type": "code",
   "execution_count": 5,
   "id": "09e5815d-4942-4571-82b7-00ea1183f80c",
   "metadata": {},
   "outputs": [],
   "source": [
    "path = r'C:\\Users\\rbhte\\Documents\\Achievement_4_Monami\\Instacart Basket Analysis'\n",
    "vars_list = ['order_id', 'user_id', 'order_number', 'order_dow', 'order_hour_of_day', 'days_since_prior_order']\n",
    "df_orders = pd.read_csv(os.path.join(path, '02 Data', 'Original Data', '4.3_orders_products', 'orders.csv'), usecols = vars_list, index_col = False)"
   ]
  },
  {
   "cell_type": "code",
   "execution_count": 3,
   "id": "4f8c7842-186a-476e-8b54-96199b599cb8",
   "metadata": {},
   "outputs": [
    {
     "name": "stdout",
     "output_type": "stream",
     "text": [
      "   order_id  user_id  order_number  order_dow  order_hour_of_day  \\\n",
      "0   2539329        1             1          2                  8   \n",
      "1   2398795        1             2          3                  7   \n",
      "2    473747        1             3          3                 12   \n",
      "3   2254736        1             4          4                  7   \n",
      "4    431534        1             5          4                 15   \n",
      "\n",
      "   days_since_prior_order  \n",
      "0                     NaN  \n",
      "1                    15.0  \n",
      "2                    21.0  \n",
      "3                    29.0  \n",
      "4                    28.0  \n"
     ]
    }
   ],
   "source": [
    "print(df_orders.head())"
   ]
  },
  {
   "cell_type": "code",
   "execution_count": 46,
   "id": "00351f80-4bd7-47ad-8907-c8ffc8758a7f",
   "metadata": {},
   "outputs": [
    {
     "name": "stdout",
     "output_type": "stream",
     "text": [
      "  Printing 1st 20 rows \n",
      " ------------------\n",
      "    product_id                                       product_name  aisle_id  \\\n",
      "0            1                         Chocolate Sandwich Cookies        61   \n",
      "1            2                                   All-Seasons Salt       104   \n",
      "2            3               Robust Golden Unsweetened Oolong Tea        94   \n",
      "3            4  Smart Ones Classic Favorites Mini Rigatoni Wit...        38   \n",
      "4            5                          Green Chile Anytime Sauce         5   \n",
      "5            6                                       Dry Nose Oil        11   \n",
      "6            7                     Pure Coconut Water With Orange        98   \n",
      "7            8                  Cut Russet Potatoes Steam N' Mash       116   \n",
      "8            9                  Light Strawberry Blueberry Yogurt       120   \n",
      "9           10     Sparkling Orange Juice & Prickly Pear Beverage       115   \n",
      "10          11                                  Peach Mango Juice        31   \n",
      "11          12                         Chocolate Fudge Layer Cake       119   \n",
      "12          13                                  Saline Nasal Mist        11   \n",
      "13          14                     Fresh Scent Dishwasher Cleaner        74   \n",
      "14          15                           Overnight Diapers Size 6        56   \n",
      "15          16                      Mint Chocolate Flavored Syrup       103   \n",
      "16          17                                  Rendered Duck Fat        35   \n",
      "17          18                Pizza for One Suprema  Frozen Pizza        79   \n",
      "18          19   Gluten Free Quinoa Three Cheese & Mushroom Blend        63   \n",
      "19          20     Pomegranate Cranberry & Aloe Vera Enrich Drink        98   \n",
      "\n",
      "    department_id  prices  \n",
      "0              19     5.8  \n",
      "1              13     9.3  \n",
      "2               7     4.5  \n",
      "3               1    10.5  \n",
      "4              13     4.3  \n",
      "5              11     2.6  \n",
      "6               7     4.4  \n",
      "7               1     1.1  \n",
      "8              16     7.0  \n",
      "9               7     8.4  \n",
      "10              7     2.8  \n",
      "11              1     9.4  \n",
      "12             11     1.1  \n",
      "13             17     6.5  \n",
      "14             18    11.2  \n",
      "15             19     5.2  \n",
      "16             12    17.1  \n",
      "17              1    10.6  \n",
      "18              9    12.0  \n",
      "19              7     6.0  \n",
      "  Printing last 35 rows \n",
      " -------------------\n",
      "       product_id                                       product_name  \\\n",
      "49658       49654                   Teriyaki Sauce, Sesame, Original   \n",
      "49659       49655                                        Apple Cider   \n",
      "49660       49656                         Masada Kosher Pocket Bread   \n",
      "49661       49657                                  Cabernet Tomatoes   \n",
      "49662       49658                         Brie with Herbs Foil Wedge   \n",
      "49663       49659                            Organic Creamed Coconut   \n",
      "49664       49660                        Professionals Sleek Shampoo   \n",
      "49665       49661                                              Porto   \n",
      "49666       49662                       Bacon Cheddar Pretzel Pieces   \n",
      "49667       49663  Ultra Protein Power Crunch Peanut Butter N' Ho...   \n",
      "49668       49664                     Lemon Cayenne Drinking Vinegar   \n",
      "49669       49665      Super Dark Coconut Ash & Banana Chocolate Bar   \n",
      "49670       49666                      Ginger Snaps Snacking Cookies   \n",
      "49671       49667           Enchilada with Spanish Rice & Beans Meal   \n",
      "49672       49668                     Apple Cinnamon Scented Candles   \n",
      "49673       49669                                   K Cup Dark Blend   \n",
      "49674       49670                                Beef Summer Sausage   \n",
      "49675       49671                               Milk Chocolate Drops   \n",
      "49676       49672                             Cafe Mocha K-Cup Packs   \n",
      "49677       49673              Stone Baked Multi Grain Artisan Rolls   \n",
      "49678       49674            Frozen Greek Yogurt Bars Chocolate Chip   \n",
      "49679       49675                Cinnamon Dolce Keurig Brewed K Cups   \n",
      "49680       49676                             Ultra Red Energy Drink   \n",
      "49681       49677                    Thick & Chunky Sloppy Joe Sauce   \n",
      "49682       49678                    Large Chicken & Cheese Taquitos   \n",
      "49683       49679                            Famous Chocolate Wafers   \n",
      "49684       49680                 All Natural Creamy Caesar Dressing   \n",
      "49685       49681            Spaghetti with Meatballs and Sauce Meal   \n",
      "49686       49682                                 California Limeade   \n",
      "49687       49683                                     Cucumber Kirby   \n",
      "49688       49684          Vodka, Triple Distilled, Twist of Vanilla   \n",
      "49689       49685                 En Croute Roast Hazelnut Cranberry   \n",
      "49690       49686                                   Artisan Baguette   \n",
      "49691       49687         Smartblend Healthy Metabolism Dry Cat Food   \n",
      "49692       49688                             Fresh Foaming Cleanser   \n",
      "\n",
      "       aisle_id  department_id  prices  \n",
      "49658         5             13     4.0  \n",
      "49659        98              7    10.7  \n",
      "49660       128              3     7.1  \n",
      "49661        83              4     8.3  \n",
      "49662         2             16     3.9  \n",
      "49663        17             13     3.1  \n",
      "49664        22             11     6.7  \n",
      "49665       134              5     8.2  \n",
      "49666       107             19     3.6  \n",
      "49667        57             14    10.2  \n",
      "49668       100             21    13.7  \n",
      "49669        45             19     6.9  \n",
      "49670        61             19     5.2  \n",
      "49671        38              1     6.6  \n",
      "49672       101             17     5.6  \n",
      "49673       100             21     4.7  \n",
      "49674       106             12    19.2  \n",
      "49675        45             19     3.0  \n",
      "49676        26              7     6.5  \n",
      "49677       129              1     5.6  \n",
      "49678        37              1    11.1  \n",
      "49679        26              7    14.0  \n",
      "49680        64              7    14.5  \n",
      "49681        59             15     8.9  \n",
      "49682       129              1     3.4  \n",
      "49683        61             19     6.0  \n",
      "49684        89             13     4.9  \n",
      "49685        38              1     6.9  \n",
      "49686        98              7     4.3  \n",
      "49687        83              4    13.2  \n",
      "49688       124              5     5.3  \n",
      "49689        42              1     3.1  \n",
      "49690       112              3     7.8  \n",
      "49691        41              8     4.7  \n",
      "49692        73             11    13.5  \n"
     ]
    }
   ],
   "source": [
    "df_prods = pd.read_csv(os.path.join(path, '02 Data', 'Original Data', '4.3_orders_products', 'products.csv'), index_col = False) \n",
    "print ('  Printing 1st 20 rows ')\n",
    "print (' ------------------')\n",
    "print (df_prods.head(20))\n",
    "print ('  Printing last 35 rows ')\n",
    "print (' -------------------')\n",
    "print (df_prods.tail(35))"
   ]
  },
  {
   "cell_type": "code",
   "execution_count": 47,
   "id": "a846edbc-0f58-4cf8-89e3-4723c1c11afb",
   "metadata": {},
   "outputs": [
    {
     "name": "stdout",
     "output_type": "stream",
     "text": [
      " Column names\n",
      "-------------------------------------\n",
      "Index(['product_id', 'product_name', 'aisle_id', 'department_id', 'prices'], dtype='object')\n"
     ]
    }
   ],
   "source": [
    "print (' Column names')\n",
    "print ('-------------------------------------')\n",
    "col = df_prods.columns\n",
    "print (col)"
   ]
  },
  {
   "cell_type": "code",
   "execution_count": 48,
   "id": "d5e9d701-161c-46a9-819c-8c47487f1104",
   "metadata": {},
   "outputs": [
    {
     "name": "stdout",
     "output_type": "stream",
     "text": [
      " Total number of rows and columns\n",
      "---------------------------------\n",
      "(49693, 5)\n"
     ]
    }
   ],
   "source": [
    "print (' Total number of rows and columns')\n",
    "print ('---------------------------------')\n",
    "row_col = df_prods.shape\n",
    "print (row_col)"
   ]
  },
  {
   "cell_type": "code",
   "execution_count": 49,
   "id": "77446e08-9c56-4833-8bf4-a907a8b6c527",
   "metadata": {},
   "outputs": [
    {
     "name": "stdout",
     "output_type": "stream",
     "text": [
      " Column names and info\n",
      "-------------------------------------\n",
      "<class 'pandas.core.frame.DataFrame'>\n",
      "RangeIndex: 49693 entries, 0 to 49692\n",
      "Data columns (total 5 columns):\n",
      " #   Column         Non-Null Count  Dtype  \n",
      "---  ------         --------------  -----  \n",
      " 0   product_id     49693 non-null  int64  \n",
      " 1   product_name   49677 non-null  object \n",
      " 2   aisle_id       49693 non-null  int64  \n",
      " 3   department_id  49693 non-null  int64  \n",
      " 4   prices         49693 non-null  float64\n",
      "dtypes: float64(1), int64(3), object(1)\n",
      "memory usage: 1.9+ MB\n",
      "None\n"
     ]
    }
   ],
   "source": [
    "print (' Column names and info')\n",
    "print ('-------------------------------------')\n",
    "info = df_prods.info()\n",
    "print (info) "
   ]
  },
  {
   "cell_type": "markdown",
   "id": "167d28dd-4c9f-470d-8148-caf9564a7a90",
   "metadata": {},
   "source": [
    "Maximum value of the “aisle_id” column : 49693 "
   ]
  },
  {
   "cell_type": "markdown",
   "id": "5ccc5eba-c530-43e6-b4ed-09ebd88e13e3",
   "metadata": {},
   "source": [
    "Data type of the “department_id” column : int64"
   ]
  },
  {
   "cell_type": "code",
   "execution_count": null,
   "id": "1707adb1-2e38-461a-a9a0-48be0e9e3d3f",
   "metadata": {},
   "outputs": [],
   "source": []
  }
 ],
 "metadata": {
  "kernelspec": {
   "display_name": "Python 3 (ipykernel)",
   "language": "python",
   "name": "python3"
  },
  "language_info": {
   "codemirror_mode": {
    "name": "ipython",
    "version": 3
   },
   "file_extension": ".py",
   "mimetype": "text/x-python",
   "name": "python",
   "nbconvert_exporter": "python",
   "pygments_lexer": "ipython3",
   "version": "3.12.7"
  }
 },
 "nbformat": 4,
 "nbformat_minor": 5
}
